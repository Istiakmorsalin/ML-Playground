{
 "cells": [
  {
   "cell_type": "code",
   "execution_count": 1,
   "id": "54889380",
   "metadata": {},
   "outputs": [],
   "source": [
    "import numpy as np"
   ]
  },
  {
   "cell_type": "code",
   "execution_count": 2,
   "id": "1cd414ad",
   "metadata": {},
   "outputs": [],
   "source": [
    "## DataTypes & Attributes"
   ]
  },
  {
   "cell_type": "code",
   "execution_count": 69,
   "id": "d23ce6c9",
   "metadata": {},
   "outputs": [],
   "source": [
    "# NumPy's main datatype is ndarray \n",
    "a1 = np.array([1,2,3])"
   ]
  },
  {
   "cell_type": "code",
   "execution_count": 8,
   "id": "d379a031",
   "metadata": {},
   "outputs": [
    {
     "data": {
      "text/plain": [
       "numpy.ndarray"
      ]
     },
     "execution_count": 8,
     "metadata": {},
     "output_type": "execute_result"
    }
   ],
   "source": [
    "type(a1)"
   ]
  },
  {
   "cell_type": "code",
   "execution_count": 70,
   "id": "f968f42d",
   "metadata": {},
   "outputs": [],
   "source": [
    "a2 = np.array([[1,2,3.5], \n",
    "              [4,5,6.5]])"
   ]
  },
  {
   "cell_type": "code",
   "execution_count": 12,
   "id": "dd966eb1",
   "metadata": {},
   "outputs": [
    {
     "name": "stdout",
     "output_type": "stream",
     "text": [
      "[[1.  2.  3.5]\n",
      " [4.  5.  6.5]]\n"
     ]
    }
   ],
   "source": [
    "print(a2)"
   ]
  },
  {
   "cell_type": "code",
   "execution_count": 13,
   "id": "319bc374",
   "metadata": {},
   "outputs": [
    {
     "data": {
      "text/plain": [
       "(2, 3)"
      ]
     },
     "execution_count": 13,
     "metadata": {},
     "output_type": "execute_result"
    }
   ],
   "source": [
    "a2.shape"
   ]
  },
  {
   "cell_type": "code",
   "execution_count": 14,
   "id": "864d1ec2",
   "metadata": {},
   "outputs": [
    {
     "data": {
      "text/plain": [
       "(3,)"
      ]
     },
     "execution_count": 14,
     "metadata": {},
     "output_type": "execute_result"
    }
   ],
   "source": [
    "a1.shape"
   ]
  },
  {
   "cell_type": "code",
   "execution_count": 15,
   "id": "6f312db6",
   "metadata": {},
   "outputs": [
    {
     "data": {
      "text/plain": [
       "(1, 2)"
      ]
     },
     "execution_count": 15,
     "metadata": {},
     "output_type": "execute_result"
    }
   ],
   "source": [
    "a1.ndim, a2.ndim"
   ]
  },
  {
   "cell_type": "code",
   "execution_count": 16,
   "id": "6373eb1c",
   "metadata": {},
   "outputs": [
    {
     "data": {
      "text/plain": [
       "(dtype('int64'), dtype('float64'))"
      ]
     },
     "execution_count": 16,
     "metadata": {},
     "output_type": "execute_result"
    }
   ],
   "source": [
    "a1.dtype, a2.dtype"
   ]
  },
  {
   "cell_type": "code",
   "execution_count": 17,
   "id": "42cd448c",
   "metadata": {},
   "outputs": [
    {
     "data": {
      "text/plain": [
       "(3, 6)"
      ]
     },
     "execution_count": 17,
     "metadata": {},
     "output_type": "execute_result"
    }
   ],
   "source": [
    "a1.size, a2.size"
   ]
  },
  {
   "cell_type": "code",
   "execution_count": 18,
   "id": "2ad29bf9",
   "metadata": {},
   "outputs": [
    {
     "data": {
      "text/plain": [
       "(numpy.ndarray, numpy.ndarray)"
      ]
     },
     "execution_count": 18,
     "metadata": {},
     "output_type": "execute_result"
    }
   ],
   "source": [
    "type(a1), type(a2)"
   ]
  },
  {
   "cell_type": "code",
   "execution_count": 19,
   "id": "ed4409b3",
   "metadata": {},
   "outputs": [
    {
     "data": {
      "text/html": [
       "<div>\n",
       "<style scoped>\n",
       "    .dataframe tbody tr th:only-of-type {\n",
       "        vertical-align: middle;\n",
       "    }\n",
       "\n",
       "    .dataframe tbody tr th {\n",
       "        vertical-align: top;\n",
       "    }\n",
       "\n",
       "    .dataframe thead th {\n",
       "        text-align: right;\n",
       "    }\n",
       "</style>\n",
       "<table border=\"1\" class=\"dataframe\">\n",
       "  <thead>\n",
       "    <tr style=\"text-align: right;\">\n",
       "      <th></th>\n",
       "      <th>0</th>\n",
       "    </tr>\n",
       "  </thead>\n",
       "  <tbody>\n",
       "    <tr>\n",
       "      <th>0</th>\n",
       "      <td>1</td>\n",
       "    </tr>\n",
       "    <tr>\n",
       "      <th>1</th>\n",
       "      <td>2</td>\n",
       "    </tr>\n",
       "    <tr>\n",
       "      <th>2</th>\n",
       "      <td>3</td>\n",
       "    </tr>\n",
       "  </tbody>\n",
       "</table>\n",
       "</div>"
      ],
      "text/plain": [
       "   0\n",
       "0  1\n",
       "1  2\n",
       "2  3"
      ]
     },
     "execution_count": 19,
     "metadata": {},
     "output_type": "execute_result"
    }
   ],
   "source": [
    "#Create a dataframe from a Numpy array \n",
    "import pandas as pd \n",
    "df = pd.DataFrame(a1) \n",
    "df"
   ]
  },
  {
   "cell_type": "code",
   "execution_count": 2,
   "id": "8209d0ae",
   "metadata": {},
   "outputs": [
    {
     "ename": "SyntaxError",
     "evalue": "invalid syntax (2833031934.py, line 1)",
     "output_type": "error",
     "traceback": [
      "\u001b[0;36m  Cell \u001b[0;32mIn[2], line 1\u001b[0;36m\u001b[0m\n\u001b[0;31m    **Creating arrays**\u001b[0m\n\u001b[0m    ^\u001b[0m\n\u001b[0;31mSyntaxError\u001b[0m\u001b[0;31m:\u001b[0m invalid syntax\n"
     ]
    }
   ],
   "source": [
    "**Creating arrays**"
   ]
  },
  {
   "cell_type": "code",
   "execution_count": 3,
   "id": "9b9a40a8",
   "metadata": {},
   "outputs": [
    {
     "ename": "SyntaxError",
     "evalue": "invalid syntax (4286809447.py, line 1)",
     "output_type": "error",
     "traceback": [
      "\u001b[0;36m  Cell \u001b[0;32mIn[3], line 1\u001b[0;36m\u001b[0m\n\u001b[0;31m    <strong>bold text</strong>\u001b[0m\n\u001b[0m    ^\u001b[0m\n\u001b[0;31mSyntaxError\u001b[0m\u001b[0;31m:\u001b[0m invalid syntax\n"
     ]
    }
   ],
   "source": [
    "<strong>bold text</strong>"
   ]
  },
  {
   "cell_type": "code",
   "execution_count": 4,
   "id": "e4ea572d",
   "metadata": {},
   "outputs": [],
   "source": [
    "## **Creating arrays**"
   ]
  },
  {
   "cell_type": "code",
   "execution_count": 5,
   "id": "e45f24b3",
   "metadata": {},
   "outputs": [],
   "source": [
    "# **Creating arrays**"
   ]
  },
  {
   "cell_type": "code",
   "execution_count": 6,
   "id": "869612bc",
   "metadata": {},
   "outputs": [
    {
     "ename": "SyntaxError",
     "evalue": "invalid syntax (222669451.py, line 1)",
     "output_type": "error",
     "traceback": [
      "\u001b[0;36m  Cell \u001b[0;32mIn[6], line 1\u001b[0;36m\u001b[0m\n\u001b[0;31m    <h2><b>Creating arrays</b></h2>\u001b[0m\n\u001b[0m    ^\u001b[0m\n\u001b[0;31mSyntaxError\u001b[0m\u001b[0;31m:\u001b[0m invalid syntax\n"
     ]
    }
   ],
   "source": [
    "<h2><b>Creating arrays</b></h2>\n"
   ]
  },
  {
   "cell_type": "code",
   "execution_count": 7,
   "id": "a99acb31",
   "metadata": {},
   "outputs": [
    {
     "ename": "SyntaxError",
     "evalue": "invalid syntax (2034886092.py, line 1)",
     "output_type": "error",
     "traceback": [
      "\u001b[0;36m  Cell \u001b[0;32mIn[7], line 1\u001b[0;36m\u001b[0m\n\u001b[0;31m    **this is a bold text**\u001b[0m\n\u001b[0m    ^\u001b[0m\n\u001b[0;31mSyntaxError\u001b[0m\u001b[0;31m:\u001b[0m invalid syntax\n"
     ]
    }
   ],
   "source": [
    "**this is a bold text** "
   ]
  },
  {
   "cell_type": "code",
   "execution_count": 8,
   "id": "9862040e",
   "metadata": {},
   "outputs": [],
   "source": [
    "# for titles"
   ]
  },
  {
   "cell_type": "code",
   "execution_count": 9,
   "id": "8c103700",
   "metadata": {},
   "outputs": [],
   "source": [
    "## 2. Creating Arrays"
   ]
  },
  {
   "cell_type": "code",
   "execution_count": 11,
   "id": "341876a5",
   "metadata": {},
   "outputs": [
    {
     "ename": "NameError",
     "evalue": "name 'np' is not defined",
     "output_type": "error",
     "traceback": [
      "\u001b[0;31m---------------------------------------------------------------------------\u001b[0m",
      "\u001b[0;31mNameError\u001b[0m                                 Traceback (most recent call last)",
      "Cell \u001b[0;32mIn[11], line 1\u001b[0m\n\u001b[0;32m----> 1\u001b[0m sample_array \u001b[38;5;241m=\u001b[39m np\u001b[38;5;241m.\u001b[39marray([\u001b[38;5;241m1\u001b[39m,\u001b[38;5;241m2\u001b[39m,\u001b[38;5;241m3\u001b[39m])\n",
      "\u001b[0;31mNameError\u001b[0m: name 'np' is not defined"
     ]
    }
   ],
   "source": [
    "sample_array = np.array([1,2,3])"
   ]
  },
  {
   "cell_type": "code",
   "execution_count": 13,
   "id": "4c9968b8",
   "metadata": {},
   "outputs": [],
   "source": [
    "import numpy as np"
   ]
  },
  {
   "cell_type": "code",
   "execution_count": 15,
   "id": "e2f5a964",
   "metadata": {},
   "outputs": [],
   "source": [
    "sample_array = np.array([1,2,3])"
   ]
  },
  {
   "cell_type": "code",
   "execution_count": 16,
   "id": "76e506d5",
   "metadata": {},
   "outputs": [
    {
     "data": {
      "text/plain": [
       "(3,)"
      ]
     },
     "execution_count": 16,
     "metadata": {},
     "output_type": "execute_result"
    }
   ],
   "source": [
    "sample_array.shape"
   ]
  },
  {
   "cell_type": "code",
   "execution_count": 17,
   "id": "1cbc1b97",
   "metadata": {},
   "outputs": [
    {
     "data": {
      "text/plain": [
       "1"
      ]
     },
     "execution_count": 17,
     "metadata": {},
     "output_type": "execute_result"
    }
   ],
   "source": [
    "sample_array.ndim"
   ]
  },
  {
   "cell_type": "code",
   "execution_count": 18,
   "id": "70158c6c",
   "metadata": {},
   "outputs": [
    {
     "data": {
      "text/plain": [
       "dtype('int64')"
      ]
     },
     "execution_count": 18,
     "metadata": {},
     "output_type": "execute_result"
    }
   ],
   "source": [
    "sample_array.dtype"
   ]
  },
  {
   "cell_type": "code",
   "execution_count": 19,
   "id": "b5e403e8",
   "metadata": {},
   "outputs": [],
   "source": [
    "ones = np.ones((2,3))"
   ]
  },
  {
   "cell_type": "code",
   "execution_count": 20,
   "id": "eb5392ee",
   "metadata": {},
   "outputs": [
    {
     "data": {
      "text/plain": [
       "array([[1., 1., 1.],\n",
       "       [1., 1., 1.]])"
      ]
     },
     "execution_count": 20,
     "metadata": {},
     "output_type": "execute_result"
    }
   ],
   "source": [
    "ones"
   ]
  },
  {
   "cell_type": "code",
   "execution_count": 21,
   "id": "2822e3a8",
   "metadata": {},
   "outputs": [
    {
     "ename": "AttributeError",
     "evalue": "'numpy.ndarray' object has no attribute 'ndarry'",
     "output_type": "error",
     "traceback": [
      "\u001b[0;31m---------------------------------------------------------------------------\u001b[0m",
      "\u001b[0;31mAttributeError\u001b[0m                            Traceback (most recent call last)",
      "Cell \u001b[0;32mIn[21], line 1\u001b[0m\n\u001b[0;32m----> 1\u001b[0m \u001b[38;5;28mtype\u001b[39m(ones\u001b[38;5;241m.\u001b[39mndarry)\n",
      "\u001b[0;31mAttributeError\u001b[0m: 'numpy.ndarray' object has no attribute 'ndarry'"
     ]
    }
   ],
   "source": [
    "type(ones.ndarry)"
   ]
  },
  {
   "cell_type": "code",
   "execution_count": 22,
   "id": "7c919b4c",
   "metadata": {},
   "outputs": [
    {
     "data": {
      "text/plain": [
       "numpy.ndarray"
      ]
     },
     "execution_count": 22,
     "metadata": {},
     "output_type": "execute_result"
    }
   ],
   "source": [
    "type(ones)"
   ]
  },
  {
   "cell_type": "code",
   "execution_count": 23,
   "id": "ecf3b338",
   "metadata": {},
   "outputs": [
    {
     "ename": "TypeError",
     "evalue": "zeros() missing required argument 'shape' (pos 0)",
     "output_type": "error",
     "traceback": [
      "\u001b[0;31m---------------------------------------------------------------------------\u001b[0m",
      "\u001b[0;31mTypeError\u001b[0m                                 Traceback (most recent call last)",
      "Cell \u001b[0;32mIn[23], line 1\u001b[0m\n\u001b[0;32m----> 1\u001b[0m zeros \u001b[38;5;241m=\u001b[39m np\u001b[38;5;241m.\u001b[39mzeros()\n",
      "\u001b[0;31mTypeError\u001b[0m: zeros() missing required argument 'shape' (pos 0)"
     ]
    }
   ],
   "source": [
    "zeros = np.zeros()"
   ]
  },
  {
   "cell_type": "code",
   "execution_count": 24,
   "id": "7415d56e",
   "metadata": {},
   "outputs": [],
   "source": [
    "zeros = np.zeros(4)"
   ]
  },
  {
   "cell_type": "code",
   "execution_count": 25,
   "id": "4daea599",
   "metadata": {},
   "outputs": [
    {
     "data": {
      "text/plain": [
       "array([0., 0., 0., 0.])"
      ]
     },
     "execution_count": 25,
     "metadata": {},
     "output_type": "execute_result"
    }
   ],
   "source": [
    "zeros"
   ]
  },
  {
   "cell_type": "code",
   "execution_count": 26,
   "id": "d7901abe",
   "metadata": {},
   "outputs": [],
   "source": [
    "zeros = np.zeros((4,5))"
   ]
  },
  {
   "cell_type": "code",
   "execution_count": 27,
   "id": "0e1071a4",
   "metadata": {},
   "outputs": [
    {
     "data": {
      "text/plain": [
       "array([[0., 0., 0., 0., 0.],\n",
       "       [0., 0., 0., 0., 0.],\n",
       "       [0., 0., 0., 0., 0.],\n",
       "       [0., 0., 0., 0., 0.]])"
      ]
     },
     "execution_count": 27,
     "metadata": {},
     "output_type": "execute_result"
    }
   ],
   "source": [
    "zeros"
   ]
  },
  {
   "cell_type": "code",
   "execution_count": 28,
   "id": "3cba0977",
   "metadata": {},
   "outputs": [
    {
     "data": {
      "text/plain": [
       "array([0, 2, 4, 6, 8])"
      ]
     },
     "execution_count": 28,
     "metadata": {},
     "output_type": "execute_result"
    }
   ],
   "source": [
    "range_array = np.arange(0,10,2)\n",
    "range_array"
   ]
  },
  {
   "cell_type": "code",
   "execution_count": 31,
   "id": "c7f6faea",
   "metadata": {},
   "outputs": [],
   "source": [
    "random_array = np.random.randint(0,10, size=(3,5))"
   ]
  },
  {
   "cell_type": "code",
   "execution_count": 32,
   "id": "5c1a1945",
   "metadata": {},
   "outputs": [
    {
     "data": {
      "text/plain": [
       "array([[1, 2, 3, 2, 8],\n",
       "       [8, 6, 7, 1, 5],\n",
       "       [4, 7, 4, 2, 4]])"
      ]
     },
     "execution_count": 32,
     "metadata": {},
     "output_type": "execute_result"
    }
   ],
   "source": [
    "random_array"
   ]
  },
  {
   "cell_type": "code",
   "execution_count": 33,
   "id": "64dfad74",
   "metadata": {},
   "outputs": [],
   "source": [
    "random_array = np.random.randint(0,3000, size = (500,500,500))"
   ]
  },
  {
   "cell_type": "code",
   "execution_count": 34,
   "id": "a5ef210f",
   "metadata": {},
   "outputs": [
    {
     "data": {
      "text/plain": [
       "array([[[ 989,  573, 1409, ...,  861,  633, 2508],\n",
       "        [2047,  688, 1923, ..., 2175, 1760, 2363],\n",
       "        [ 185,  123, 1267, ...,  741,  248, 2247],\n",
       "        ...,\n",
       "        [1932, 1735,  111, ..., 1480, 2465, 1784],\n",
       "        [  31,  943,   79, ..., 1618,  243, 1213],\n",
       "        [ 104, 1034, 2438, ..., 1983, 1522, 2163]],\n",
       "\n",
       "       [[1014,  492,  484, ...,  973, 1224, 1858],\n",
       "        [ 672, 1087, 1762, ...,  192, 1357, 1534],\n",
       "        [2463, 1269, 1873, ..., 2325, 1639, 1471],\n",
       "        ...,\n",
       "        [1317, 1557, 1441, ...,    9, 2787, 1206],\n",
       "        [1607, 1805, 1048, ..., 2175,   49, 2982],\n",
       "        [1255, 1212,  807, ..., 2582,  938, 1176]],\n",
       "\n",
       "       [[ 577, 1694, 2037, ...,  280, 2454,  214],\n",
       "        [2383, 1849, 1559, ...,  435, 1036, 1671],\n",
       "        [2534, 2345,  968, ..., 1366, 1371,  490],\n",
       "        ...,\n",
       "        [ 404, 1043, 1976, ..., 2363, 1932,  303],\n",
       "        [2571, 2194, 2963, ..., 2537, 1259, 2631],\n",
       "        [ 469, 1421,  151, ..., 2675,  773,  721]],\n",
       "\n",
       "       ...,\n",
       "\n",
       "       [[ 988, 2452, 2882, ...,  104,  610, 1870],\n",
       "        [ 146, 2458, 1239, ...,  702, 2435,  450],\n",
       "        [1740,  103, 2674, ..., 1698, 1646, 2337],\n",
       "        ...,\n",
       "        [1078,  871,  405, ..., 2459, 1799, 1422],\n",
       "        [1098,  329, 2228, ...,  363, 1394,  378],\n",
       "        [ 870,  969, 2516, ..., 1782, 2575,  653]],\n",
       "\n",
       "       [[1227, 2511,  240, ..., 2386, 2958, 1470],\n",
       "        [2500,  387,  582, ..., 2421, 1584, 2638],\n",
       "        [1401,  748, 2375, ..., 1262, 1342, 1479],\n",
       "        ...,\n",
       "        [1760,  613,  876, ..., 2803,  173,   12],\n",
       "        [1849, 1204,  444, ...,  306,  740, 2727],\n",
       "        [ 748, 2351, 1337, ...,  423, 1992, 2959]],\n",
       "\n",
       "       [[ 485,  213, 1204, ...,  208,  624, 2283],\n",
       "        [ 446, 1105,  347, ..., 1904, 2423, 2078],\n",
       "        [ 685, 1832,  402, ...,  289,  441,   71],\n",
       "        ...,\n",
       "        [1132, 1461,  547, ..., 1268, 2986, 1352],\n",
       "        [ 187, 1927, 1562, ..., 1142,  870,  415],\n",
       "        [1482, 1184,  716, ...,  463,  257, 1021]]])"
      ]
     },
     "execution_count": 34,
     "metadata": {},
     "output_type": "execute_result"
    }
   ],
   "source": [
    "random_array"
   ]
  },
  {
   "cell_type": "code",
   "execution_count": 35,
   "id": "c3c25d89",
   "metadata": {},
   "outputs": [
    {
     "data": {
      "text/plain": [
       "125000000"
      ]
     },
     "execution_count": 35,
     "metadata": {},
     "output_type": "execute_result"
    }
   ],
   "source": [
    "random_array.size"
   ]
  },
  {
   "cell_type": "code",
   "execution_count": 36,
   "id": "2eb2c86c",
   "metadata": {},
   "outputs": [
    {
     "data": {
      "text/plain": [
       "(500, 500, 500)"
      ]
     },
     "execution_count": 36,
     "metadata": {},
     "output_type": "execute_result"
    }
   ],
   "source": [
    "random_array.shape"
   ]
  },
  {
   "cell_type": "code",
   "execution_count": 37,
   "id": "c6837ff4",
   "metadata": {},
   "outputs": [
    {
     "data": {
      "text/plain": [
       "array([[0.50059626, 0.59763459, 0.7715873 ],\n",
       "       [0.0687395 , 0.1127031 , 0.1061364 ],\n",
       "       [0.88243949, 0.38195705, 0.95875479],\n",
       "       [0.16989993, 0.15967266, 0.32599768],\n",
       "       [0.5426758 , 0.06197605, 0.96081977]])"
      ]
     },
     "execution_count": 37,
     "metadata": {},
     "output_type": "execute_result"
    }
   ],
   "source": [
    "np.random.random((5,3))"
   ]
  },
  {
   "cell_type": "code",
   "execution_count": 38,
   "id": "8cc5addd",
   "metadata": {},
   "outputs": [],
   "source": [
    "random_array_2 = np.random.rand(50,30)"
   ]
  },
  {
   "cell_type": "code",
   "execution_count": 39,
   "id": "6befd414",
   "metadata": {},
   "outputs": [
    {
     "data": {
      "text/plain": [
       "array([[0.1075148 , 0.9163709 , 0.37075078, ..., 0.52285656, 0.36925246,\n",
       "        0.66305933],\n",
       "       [0.63515908, 0.2175274 , 0.61100632, ..., 0.67364291, 0.6740108 ,\n",
       "        0.38306458],\n",
       "       [0.80963577, 0.63530812, 0.79077815, ..., 0.20339672, 0.1627257 ,\n",
       "        0.5876525 ],\n",
       "       ...,\n",
       "       [0.60003704, 0.62053707, 0.9208282 , ..., 0.00624297, 0.58873059,\n",
       "        0.68201238],\n",
       "       [0.73987883, 0.90533553, 0.99156538, ..., 0.29940258, 0.63271378,\n",
       "        0.90970935],\n",
       "       [0.87156272, 0.20799108, 0.99054535, ..., 0.04457142, 0.35333366,\n",
       "        0.78153401]])"
      ]
     },
     "execution_count": 39,
     "metadata": {},
     "output_type": "execute_result"
    }
   ],
   "source": [
    "random_array_2"
   ]
  },
  {
   "cell_type": "code",
   "execution_count": 40,
   "id": "107e4524",
   "metadata": {},
   "outputs": [],
   "source": [
    "random_array_3 = np.random.rand(10,20,30)"
   ]
  },
  {
   "cell_type": "code",
   "execution_count": 41,
   "id": "9ad6ba45",
   "metadata": {},
   "outputs": [
    {
     "data": {
      "text/plain": [
       "array([[[0.49622052, 0.10870548, 0.86838157, ..., 0.39179796,\n",
       "         0.35831922, 0.19552618],\n",
       "        [0.50174236, 0.61743601, 0.65978581, ..., 0.90078321,\n",
       "         0.87935455, 0.79857564],\n",
       "        [0.56589795, 0.04217152, 0.21276949, ..., 0.09707326,\n",
       "         0.26196259, 0.82713408],\n",
       "        ...,\n",
       "        [0.66187273, 0.19644285, 0.75772058, ..., 0.05805008,\n",
       "         0.19968956, 0.60242096],\n",
       "        [0.41331682, 0.87361517, 0.77107366, ..., 0.01205189,\n",
       "         0.78533663, 0.46962953],\n",
       "        [0.65085304, 0.60336452, 0.78332887, ..., 0.25827706,\n",
       "         0.21995324, 0.83977354]],\n",
       "\n",
       "       [[0.77070266, 0.66664588, 0.22281453, ..., 0.40232521,\n",
       "         0.06183961, 0.34555271],\n",
       "        [0.48694295, 0.03825634, 0.92970717, ..., 0.22745242,\n",
       "         0.26007755, 0.81472578],\n",
       "        [0.00114558, 0.27095106, 0.39278769, ..., 0.56537884,\n",
       "         0.18072846, 0.08908746],\n",
       "        ...,\n",
       "        [0.55869386, 0.04042951, 0.17665775, ..., 0.7554226 ,\n",
       "         0.17717622, 0.27449563],\n",
       "        [0.34150399, 0.6212467 , 0.74241016, ..., 0.80135569,\n",
       "         0.98001309, 0.31652499],\n",
       "        [0.30490499, 0.61731673, 0.71116083, ..., 0.11195668,\n",
       "         0.93161294, 0.26664385]],\n",
       "\n",
       "       [[0.75237954, 0.03399215, 0.49526381, ..., 0.41301594,\n",
       "         0.66689671, 0.96634247],\n",
       "        [0.96124397, 0.89175909, 0.62351509, ..., 0.16230921,\n",
       "         0.35647956, 0.69183403],\n",
       "        [0.12516344, 0.29069892, 0.13339353, ..., 0.7667302 ,\n",
       "         0.27544655, 0.77214006],\n",
       "        ...,\n",
       "        [0.82622154, 0.97297495, 0.48801877, ..., 0.12102253,\n",
       "         0.72812632, 0.13465759],\n",
       "        [0.33333982, 0.14009996, 0.10653177, ..., 0.0955724 ,\n",
       "         0.09710693, 0.49245934],\n",
       "        [0.57334376, 0.22828235, 0.08044514, ..., 0.94127239,\n",
       "         0.49019606, 0.04168126]],\n",
       "\n",
       "       ...,\n",
       "\n",
       "       [[0.44640424, 0.7046355 , 0.68850862, ..., 0.9104182 ,\n",
       "         0.53623718, 0.03819735],\n",
       "        [0.49606585, 0.56831256, 0.42518958, ..., 0.00915745,\n",
       "         0.24027618, 0.23479834],\n",
       "        [0.54202258, 0.24109616, 0.64427839, ..., 0.31973073,\n",
       "         0.24333788, 0.30464905],\n",
       "        ...,\n",
       "        [0.24755309, 0.2102642 , 0.61751561, ..., 0.31524226,\n",
       "         0.92306472, 0.79859021],\n",
       "        [0.7469431 , 0.00560293, 0.97061036, ..., 0.99878106,\n",
       "         0.07832982, 0.6666578 ],\n",
       "        [0.64529353, 0.9103685 , 0.29772914, ..., 0.37340907,\n",
       "         0.99766131, 0.20014132]],\n",
       "\n",
       "       [[0.27431546, 0.64527656, 0.49053538, ..., 0.00828355,\n",
       "         0.69796529, 0.44778048],\n",
       "        [0.99381735, 0.65197063, 0.47513924, ..., 0.31520803,\n",
       "         0.68258007, 0.46425594],\n",
       "        [0.06267906, 0.07848599, 0.11260882, ..., 0.84292834,\n",
       "         0.90448718, 0.48374828],\n",
       "        ...,\n",
       "        [0.21635118, 0.97801671, 0.44179942, ..., 0.64193877,\n",
       "         0.75910097, 0.49334955],\n",
       "        [0.00877629, 0.97303287, 0.36995276, ..., 0.04102627,\n",
       "         0.18683331, 0.42407796],\n",
       "        [0.46627908, 0.43100516, 0.29917883, ..., 0.45401458,\n",
       "         0.46632921, 0.89184247]],\n",
       "\n",
       "       [[0.15814564, 0.82955012, 0.74168474, ..., 0.25640797,\n",
       "         0.08547303, 0.99177815],\n",
       "        [0.97803716, 0.95453189, 0.62585068, ..., 0.76466123,\n",
       "         0.9353807 , 0.36454401],\n",
       "        [0.65828993, 0.78595631, 0.33423188, ..., 0.79228537,\n",
       "         0.15428987, 0.6314101 ],\n",
       "        ...,\n",
       "        [0.2628702 , 0.47015306, 0.62120843, ..., 0.99628093,\n",
       "         0.91734116, 0.62319178],\n",
       "        [0.94562536, 0.71293563, 0.74134762, ..., 0.04997941,\n",
       "         0.94361186, 0.95061878],\n",
       "        [0.00829104, 0.57148118, 0.17661702, ..., 0.15539739,\n",
       "         0.26155118, 0.8981584 ]]])"
      ]
     },
     "execution_count": 41,
     "metadata": {},
     "output_type": "execute_result"
    }
   ],
   "source": [
    "random_array_3"
   ]
  },
  {
   "cell_type": "code",
   "execution_count": 42,
   "id": "78850fe5",
   "metadata": {},
   "outputs": [],
   "source": [
    "# Pseudo-random numbers"
   ]
  },
  {
   "cell_type": "code",
   "execution_count": 43,
   "id": "e80f158e",
   "metadata": {},
   "outputs": [],
   "source": [
    "np.random.seed()"
   ]
  },
  {
   "cell_type": "code",
   "execution_count": 62,
   "id": "c8dc61a7",
   "metadata": {},
   "outputs": [
    {
     "data": {
      "text/plain": [
       "array([[5, 0, 3],\n",
       "       [3, 7, 9],\n",
       "       [3, 5, 2],\n",
       "       [4, 7, 6],\n",
       "       [8, 8, 1]])"
      ]
     },
     "execution_count": 62,
     "metadata": {},
     "output_type": "execute_result"
    }
   ],
   "source": [
    "np.random.seed(seed = 0)   \n",
    "random_array_4 = np.random.randint(10, size=(5,3))     \n",
    "random_array_4"
   ]
  },
  {
   "cell_type": "code",
   "execution_count": 63,
   "id": "e1a5d28d",
   "metadata": {},
   "outputs": [
    {
     "data": {
      "text/plain": [
       "array([[5, 0, 3],\n",
       "       [3, 7, 9],\n",
       "       [3, 5, 2],\n",
       "       [4, 7, 6],\n",
       "       [8, 8, 1]])"
      ]
     },
     "execution_count": 63,
     "metadata": {},
     "output_type": "execute_result"
    }
   ],
   "source": [
    "random_array_4"
   ]
  },
  {
   "cell_type": "code",
   "execution_count": 65,
   "id": "27a5a579",
   "metadata": {},
   "outputs": [
    {
     "data": {
      "text/plain": [
       "array([[5, 0, 3],\n",
       "       [3, 7, 9],\n",
       "       [3, 5, 2],\n",
       "       [4, 7, 6],\n",
       "       [8, 8, 1]])"
      ]
     },
     "execution_count": 65,
     "metadata": {},
     "output_type": "execute_result"
    }
   ],
   "source": [
    "random_array_4"
   ]
  },
  {
   "cell_type": "code",
   "execution_count": 64,
   "id": "1b472220",
   "metadata": {},
   "outputs": [
    {
     "data": {
      "text/plain": [
       "array([[5, 0, 3],\n",
       "       [3, 7, 9],\n",
       "       [3, 5, 2],\n",
       "       [4, 7, 6],\n",
       "       [8, 8, 1]])"
      ]
     },
     "execution_count": 64,
     "metadata": {},
     "output_type": "execute_result"
    }
   ],
   "source": [
    "random_array_4"
   ]
  },
  {
   "cell_type": "code",
   "execution_count": 46,
   "id": "17ceb944",
   "metadata": {},
   "outputs": [
    {
     "data": {
      "text/plain": [
       "(5, 3)"
      ]
     },
     "execution_count": 46,
     "metadata": {},
     "output_type": "execute_result"
    }
   ],
   "source": [
    "random_array_4.shape"
   ]
  },
  {
   "cell_type": "code",
   "execution_count": 66,
   "id": "8969e804",
   "metadata": {},
   "outputs": [],
   "source": [
    "## 3. Viewwing arrays and matrices "
   ]
  },
  {
   "cell_type": "code",
   "execution_count": 67,
   "id": "a8f93a2f",
   "metadata": {},
   "outputs": [
    {
     "data": {
      "text/plain": [
       "array([0, 1, 2, 3, 4, 5, 6, 7, 8, 9])"
      ]
     },
     "execution_count": 67,
     "metadata": {},
     "output_type": "execute_result"
    }
   ],
   "source": [
    "np.unique(random_array_4)"
   ]
  },
  {
   "cell_type": "code",
   "execution_count": 68,
   "id": "64ea4d75",
   "metadata": {},
   "outputs": [
    {
     "ename": "NameError",
     "evalue": "name 'a1' is not defined",
     "output_type": "error",
     "traceback": [
      "\u001b[0;31m---------------------------------------------------------------------------\u001b[0m",
      "\u001b[0;31mNameError\u001b[0m                                 Traceback (most recent call last)",
      "Cell \u001b[0;32mIn[68], line 1\u001b[0m\n\u001b[0;32m----> 1\u001b[0m a1\n",
      "\u001b[0;31mNameError\u001b[0m: name 'a1' is not defined"
     ]
    }
   ],
   "source": [
    "a1"
   ]
  },
  {
   "cell_type": "code",
   "execution_count": 71,
   "id": "6e9609a9",
   "metadata": {},
   "outputs": [
    {
     "data": {
      "text/plain": [
       "array([1, 2, 3])"
      ]
     },
     "execution_count": 71,
     "metadata": {},
     "output_type": "execute_result"
    }
   ],
   "source": [
    "a1"
   ]
  },
  {
   "cell_type": "code",
   "execution_count": 72,
   "id": "3b2f0957",
   "metadata": {},
   "outputs": [
    {
     "data": {
      "text/plain": [
       "array([[1. , 2. , 3.5],\n",
       "       [4. , 5. , 6.5]])"
      ]
     },
     "execution_count": 72,
     "metadata": {},
     "output_type": "execute_result"
    }
   ],
   "source": [
    "a2"
   ]
  },
  {
   "cell_type": "code",
   "execution_count": 73,
   "id": "03715ffc",
   "metadata": {},
   "outputs": [
    {
     "data": {
      "text/plain": [
       "1"
      ]
     },
     "execution_count": 73,
     "metadata": {},
     "output_type": "execute_result"
    }
   ],
   "source": [
    "a1[0]"
   ]
  },
  {
   "cell_type": "code",
   "execution_count": 74,
   "id": "fd09c739",
   "metadata": {},
   "outputs": [
    {
     "data": {
      "text/plain": [
       "array([1. , 2. , 3.5])"
      ]
     },
     "execution_count": 74,
     "metadata": {},
     "output_type": "execute_result"
    }
   ],
   "source": [
    "a2[0]"
   ]
  },
  {
   "cell_type": "code",
   "execution_count": 75,
   "id": "3377663a",
   "metadata": {},
   "outputs": [
    {
     "data": {
      "text/plain": [
       "(2, 3)"
      ]
     },
     "execution_count": 75,
     "metadata": {},
     "output_type": "execute_result"
    }
   ],
   "source": [
    "a2.shape"
   ]
  },
  {
   "cell_type": "code",
   "execution_count": 76,
   "id": "81dd9f58",
   "metadata": {},
   "outputs": [
    {
     "data": {
      "text/plain": [
       "array([4. , 5. , 6.5])"
      ]
     },
     "execution_count": 76,
     "metadata": {},
     "output_type": "execute_result"
    }
   ],
   "source": [
    "a2[1]"
   ]
  },
  {
   "cell_type": "code",
   "execution_count": 77,
   "id": "61a33b25",
   "metadata": {},
   "outputs": [
    {
     "data": {
      "text/plain": [
       "array([[1. , 2. , 3.5],\n",
       "       [4. , 5. , 6.5]])"
      ]
     },
     "execution_count": 77,
     "metadata": {},
     "output_type": "execute_result"
    }
   ],
   "source": [
    "a2 [:]"
   ]
  },
  {
   "cell_type": "code",
   "execution_count": 78,
   "id": "cb7ad44f",
   "metadata": {},
   "outputs": [
    {
     "ename": "IndexError",
     "evalue": "too many indices for array: array is 2-dimensional, but 3 were indexed",
     "output_type": "error",
     "traceback": [
      "\u001b[0;31m---------------------------------------------------------------------------\u001b[0m",
      "\u001b[0;31mIndexError\u001b[0m                                Traceback (most recent call last)",
      "Cell \u001b[0;32mIn[78], line 1\u001b[0m\n\u001b[0;32m----> 1\u001b[0m a2 [:\u001b[38;5;241m2\u001b[39m, :\u001b[38;5;241m2\u001b[39m, :\u001b[38;5;241m2\u001b[39m]\n",
      "\u001b[0;31mIndexError\u001b[0m: too many indices for array: array is 2-dimensional, but 3 were indexed"
     ]
    }
   ],
   "source": [
    "a2 [:2, :2, :2]"
   ]
  },
  {
   "cell_type": "code",
   "execution_count": 79,
   "id": "24e8b5c0",
   "metadata": {},
   "outputs": [
    {
     "data": {
      "text/plain": [
       "array([[1., 2.],\n",
       "       [4., 5.]])"
      ]
     },
     "execution_count": 79,
     "metadata": {},
     "output_type": "execute_result"
    }
   ],
   "source": [
    "a2 [:2, :2]"
   ]
  },
  {
   "cell_type": "code",
   "execution_count": 80,
   "id": "c75698e1",
   "metadata": {},
   "outputs": [],
   "source": [
    "## 4. Manipulating & comparing array"
   ]
  },
  {
   "cell_type": "code",
   "execution_count": 81,
   "id": "5d931c43",
   "metadata": {},
   "outputs": [],
   "source": [
    "### Arithmetic "
   ]
  },
  {
   "cell_type": "code",
   "execution_count": 82,
   "id": "be5916b3",
   "metadata": {},
   "outputs": [],
   "source": [
    "ones = np.ones(3)"
   ]
  },
  {
   "cell_type": "code",
   "execution_count": 83,
   "id": "305cafa8",
   "metadata": {},
   "outputs": [
    {
     "data": {
      "text/plain": [
       "array([1., 1., 1.])"
      ]
     },
     "execution_count": 83,
     "metadata": {},
     "output_type": "execute_result"
    }
   ],
   "source": [
    "ones"
   ]
  },
  {
   "cell_type": "code",
   "execution_count": 84,
   "id": "42fd90cf",
   "metadata": {},
   "outputs": [
    {
     "data": {
      "text/plain": [
       "array([2., 3., 4.])"
      ]
     },
     "execution_count": 84,
     "metadata": {},
     "output_type": "execute_result"
    }
   ],
   "source": [
    "a1 + ones"
   ]
  },
  {
   "cell_type": "code",
   "execution_count": 85,
   "id": "505ffbae",
   "metadata": {},
   "outputs": [
    {
     "data": {
      "text/plain": [
       "array([0., 1., 2.])"
      ]
     },
     "execution_count": 85,
     "metadata": {},
     "output_type": "execute_result"
    }
   ],
   "source": [
    "a1 - ones"
   ]
  },
  {
   "cell_type": "code",
   "execution_count": 86,
   "id": "8ebd1c38",
   "metadata": {},
   "outputs": [
    {
     "data": {
      "text/plain": [
       "array([1., 2., 3.])"
      ]
     },
     "execution_count": 86,
     "metadata": {},
     "output_type": "execute_result"
    }
   ],
   "source": [
    "a1 * ones"
   ]
  },
  {
   "cell_type": "code",
   "execution_count": 87,
   "id": "9aa24edd",
   "metadata": {},
   "outputs": [
    {
     "data": {
      "text/plain": [
       "array([[ 1. ,  4. , 10.5],\n",
       "       [ 4. , 10. , 19.5]])"
      ]
     },
     "execution_count": 87,
     "metadata": {},
     "output_type": "execute_result"
    }
   ],
   "source": [
    "a1 * a2"
   ]
  },
  {
   "cell_type": "code",
   "execution_count": 88,
   "id": "2392ceeb",
   "metadata": {},
   "outputs": [
    {
     "data": {
      "text/plain": [
       "array([1., 2., 3.])"
      ]
     },
     "execution_count": 88,
     "metadata": {},
     "output_type": "execute_result"
    }
   ],
   "source": [
    "a1 / ones"
   ]
  },
  {
   "cell_type": "code",
   "execution_count": 89,
   "id": "97b9705d",
   "metadata": {},
   "outputs": [
    {
     "data": {
      "text/plain": [
       "array([[1., 1., 0.],\n",
       "       [0., 0., 0.]])"
      ]
     },
     "execution_count": 89,
     "metadata": {},
     "output_type": "execute_result"
    }
   ],
   "source": [
    "a1 // a2"
   ]
  },
  {
   "cell_type": "code",
   "execution_count": 90,
   "id": "9396e27e",
   "metadata": {},
   "outputs": [
    {
     "data": {
      "text/plain": [
       "array([[  1.   ,   4.   ,  42.875],\n",
       "       [  4.   ,  25.   , 274.625]])"
      ]
     },
     "execution_count": 90,
     "metadata": {},
     "output_type": "execute_result"
    }
   ],
   "source": [
    "a2 ** a1"
   ]
  },
  {
   "cell_type": "code",
   "execution_count": 91,
   "id": "6e58e23d",
   "metadata": {},
   "outputs": [
    {
     "data": {
      "text/plain": [
       "array([[ 1.  ,  4.  , 12.25],\n",
       "       [16.  , 25.  , 42.25]])"
      ]
     },
     "execution_count": 91,
     "metadata": {},
     "output_type": "execute_result"
    }
   ],
   "source": [
    "a2 ** 2\n"
   ]
  },
  {
   "cell_type": "code",
   "execution_count": 92,
   "id": "49b0996b",
   "metadata": {},
   "outputs": [
    {
     "data": {
      "text/plain": [
       "array([[1. , 2. , 3.5],\n",
       "       [4. , 5. , 6.5]])"
      ]
     },
     "execution_count": 92,
     "metadata": {},
     "output_type": "execute_result"
    }
   ],
   "source": [
    "a2"
   ]
  },
  {
   "cell_type": "code",
   "execution_count": 93,
   "id": "fa78df3a",
   "metadata": {},
   "outputs": [
    {
     "data": {
      "text/plain": [
       "array([[ 1.  ,  4.  , 12.25],\n",
       "       [16.  , 25.  , 42.25]])"
      ]
     },
     "execution_count": 93,
     "metadata": {},
     "output_type": "execute_result"
    }
   ],
   "source": [
    "np.square(a2)"
   ]
  },
  {
   "cell_type": "code",
   "execution_count": 94,
   "id": "18fcd9bb",
   "metadata": {},
   "outputs": [
    {
     "data": {
      "text/plain": [
       "array([2., 3., 4.])"
      ]
     },
     "execution_count": 94,
     "metadata": {},
     "output_type": "execute_result"
    }
   ],
   "source": [
    "np.add(a1, ones)"
   ]
  },
  {
   "cell_type": "code",
   "execution_count": 95,
   "id": "16bebdc2",
   "metadata": {},
   "outputs": [
    {
     "data": {
      "text/plain": [
       "array([1, 0, 1])"
      ]
     },
     "execution_count": 95,
     "metadata": {},
     "output_type": "execute_result"
    }
   ],
   "source": [
    "a1 % 2"
   ]
  },
  {
   "cell_type": "code",
   "execution_count": 96,
   "id": "e387aba6",
   "metadata": {},
   "outputs": [
    {
     "data": {
      "text/plain": [
       "array([[0., 0., 3.],\n",
       "       [1., 2., 3.]])"
      ]
     },
     "execution_count": 96,
     "metadata": {},
     "output_type": "execute_result"
    }
   ],
   "source": [
    "np.mod(a1, a2)"
   ]
  },
  {
   "cell_type": "code",
   "execution_count": 97,
   "id": "da9a15d4",
   "metadata": {},
   "outputs": [
    {
     "data": {
      "text/plain": [
       "array([ 2.71828183,  7.3890561 , 20.08553692])"
      ]
     },
     "execution_count": 97,
     "metadata": {},
     "output_type": "execute_result"
    }
   ],
   "source": [
    "np.exp(a1)"
   ]
  },
  {
   "cell_type": "code",
   "execution_count": 98,
   "id": "5c926fc7",
   "metadata": {},
   "outputs": [
    {
     "data": {
      "text/plain": [
       "array([0.        , 0.69314718, 1.09861229])"
      ]
     },
     "execution_count": 98,
     "metadata": {},
     "output_type": "execute_result"
    }
   ],
   "source": [
    "np.log(a1)"
   ]
  },
  {
   "cell_type": "code",
   "execution_count": 99,
   "id": "88145af4",
   "metadata": {},
   "outputs": [],
   "source": [
    "## Aggregation"
   ]
  },
  {
   "cell_type": "code",
   "execution_count": 100,
   "id": "4a31caaf",
   "metadata": {},
   "outputs": [],
   "source": [
    "listy_list = [1,2,3]"
   ]
  },
  {
   "cell_type": "code",
   "execution_count": 101,
   "id": "cf55e606",
   "metadata": {},
   "outputs": [
    {
     "data": {
      "text/plain": [
       "list"
      ]
     },
     "execution_count": 101,
     "metadata": {},
     "output_type": "execute_result"
    }
   ],
   "source": [
    "type(listy_list)"
   ]
  },
  {
   "cell_type": "code",
   "execution_count": 102,
   "id": "fc1919bd",
   "metadata": {},
   "outputs": [
    {
     "data": {
      "text/plain": [
       "6"
      ]
     },
     "execution_count": 102,
     "metadata": {},
     "output_type": "execute_result"
    }
   ],
   "source": [
    "sum(listy_list)"
   ]
  },
  {
   "cell_type": "code",
   "execution_count": 103,
   "id": "c7977b15",
   "metadata": {},
   "outputs": [
    {
     "data": {
      "text/plain": [
       "array([1, 2, 3])"
      ]
     },
     "execution_count": 103,
     "metadata": {},
     "output_type": "execute_result"
    }
   ],
   "source": [
    "a1"
   ]
  },
  {
   "cell_type": "code",
   "execution_count": 104,
   "id": "3769bcb8",
   "metadata": {},
   "outputs": [
    {
     "data": {
      "text/plain": [
       "6"
      ]
     },
     "execution_count": 104,
     "metadata": {},
     "output_type": "execute_result"
    }
   ],
   "source": [
    "sum(a1)"
   ]
  },
  {
   "cell_type": "code",
   "execution_count": 105,
   "id": "14e4f03d",
   "metadata": {},
   "outputs": [
    {
     "data": {
      "text/plain": [
       "6"
      ]
     },
     "execution_count": 105,
     "metadata": {},
     "output_type": "execute_result"
    }
   ],
   "source": [
    "np.sum(a1)"
   ]
  },
  {
   "cell_type": "code",
   "execution_count": 106,
   "id": "591d090d",
   "metadata": {},
   "outputs": [],
   "source": [
    "massive_array = np.random.random(1000000000)"
   ]
  },
  {
   "cell_type": "code",
   "execution_count": 107,
   "id": "a8b18c08",
   "metadata": {},
   "outputs": [
    {
     "data": {
      "text/plain": [
       "array([0.79172504, 0.52889492, 0.56804456, ..., 0.87586069, 0.07715493,\n",
       "       0.13286603])"
      ]
     },
     "execution_count": 107,
     "metadata": {},
     "output_type": "execute_result"
    }
   ],
   "source": [
    "massive_array"
   ]
  },
  {
   "cell_type": "code",
   "execution_count": 108,
   "id": "b8aa76f8",
   "metadata": {},
   "outputs": [
    {
     "data": {
      "text/plain": [
       "array([0.79172504, 0.52889492, 0.56804456, 0.92559664, 0.07103606,\n",
       "       0.0871293 , 0.0202184 , 0.83261985, 0.77815675, 0.87001215,\n",
       "       0.97861834, 0.79915856, 0.46147936, 0.78052918, 0.11827443,\n",
       "       0.63992102, 0.14335329, 0.94466892, 0.52184832, 0.41466194,\n",
       "       0.26455561, 0.77423369, 0.45615033, 0.56843395, 0.0187898 ,\n",
       "       0.6176355 , 0.61209572, 0.616934  , 0.94374808, 0.6818203 ,\n",
       "       0.3595079 , 0.43703195, 0.6976312 , 0.06022547, 0.66676672,\n",
       "       0.67063787, 0.21038256, 0.1289263 , 0.31542835, 0.36371077,\n",
       "       0.57019677, 0.43860151, 0.98837384, 0.10204481, 0.20887676,\n",
       "       0.16130952, 0.65310833, 0.2532916 , 0.46631077, 0.24442559,\n",
       "       0.15896958, 0.11037514, 0.65632959, 0.13818295, 0.19658236,\n",
       "       0.36872517, 0.82099323, 0.09710128, 0.83794491, 0.09609841,\n",
       "       0.97645947, 0.4686512 , 0.97676109, 0.60484552, 0.73926358,\n",
       "       0.03918779, 0.28280696, 0.12019656, 0.2961402 , 0.11872772,\n",
       "       0.31798318, 0.41426299, 0.0641475 , 0.69247212, 0.56660145,\n",
       "       0.26538949, 0.52324805, 0.09394051, 0.5759465 , 0.9292962 ,\n",
       "       0.31856895, 0.66741038, 0.13179786, 0.7163272 , 0.28940609,\n",
       "       0.18319136, 0.58651293, 0.02010755, 0.82894003, 0.00469548,\n",
       "       0.67781654, 0.27000797, 0.73519402, 0.96218855, 0.24875314,\n",
       "       0.57615733, 0.59204193, 0.57225191, 0.22308163, 0.95274901])"
      ]
     },
     "execution_count": 108,
     "metadata": {},
     "output_type": "execute_result"
    }
   ],
   "source": [
    "massive_array[:100]"
   ]
  },
  {
   "cell_type": "code",
   "execution_count": null,
   "id": "5445f62a",
   "metadata": {},
   "outputs": [],
   "source": [
    "%timeit sum(massive_array)"
   ]
  },
  {
   "cell_type": "code",
   "execution_count": null,
   "id": "6b48c9cf",
   "metadata": {},
   "outputs": [],
   "source": [
    "%timeit np.sum(massive_array)"
   ]
  },
  {
   "cell_type": "code",
   "execution_count": null,
   "id": "571a7ed0",
   "metadata": {},
   "outputs": [],
   "source": [
    "%timeit np.sum(massive_array)"
   ]
  },
  {
   "cell_type": "code",
   "execution_count": null,
   "id": "01107550",
   "metadata": {},
   "outputs": [],
   "source": [
    "%timeit sum(massive_array) \n",
    "%timeit np.sum(massive_array)"
   ]
  },
  {
   "cell_type": "code",
   "execution_count": null,
   "id": "25fb7eb8",
   "metadata": {},
   "outputs": [],
   "source": [
    "print(%timeit np.sum(massive_array))"
   ]
  },
  {
   "cell_type": "code",
   "execution_count": null,
   "id": "fea41aa6",
   "metadata": {},
   "outputs": [],
   "source": [
    "np.mean(a2)"
   ]
  },
  {
   "cell_type": "code",
   "execution_count": null,
   "id": "63bed9a7",
   "metadata": {},
   "outputs": [],
   "source": [
    "np.std(a2)"
   ]
  },
  {
   "cell_type": "code",
   "execution_count": null,
   "id": "3e4ee6ec",
   "metadata": {},
   "outputs": [],
   "source": []
  }
 ],
 "metadata": {
  "kernelspec": {
   "display_name": "Python 3 (ipykernel)",
   "language": "python",
   "name": "python3"
  },
  "language_info": {
   "codemirror_mode": {
    "name": "ipython",
    "version": 3
   },
   "file_extension": ".py",
   "mimetype": "text/x-python",
   "name": "python",
   "nbconvert_exporter": "python",
   "pygments_lexer": "ipython3",
   "version": "3.11.2"
  }
 },
 "nbformat": 4,
 "nbformat_minor": 5
}
