{
 "cells": [
  {
   "cell_type": "code",
   "execution_count": 1,
   "id": "54889380",
   "metadata": {},
   "outputs": [],
   "source": [
    "import numpy as np"
   ]
  },
  {
   "cell_type": "code",
   "execution_count": 2,
   "id": "1cd414ad",
   "metadata": {},
   "outputs": [],
   "source": [
    "## DataTypes & Attributes"
   ]
  },
  {
   "cell_type": "code",
   "execution_count": 3,
   "id": "d23ce6c9",
   "metadata": {},
   "outputs": [],
   "source": [
    "# NumPy's main datatype is ndarray \n",
    "a1 = np.array([1,2,3])"
   ]
  },
  {
   "cell_type": "code",
   "execution_count": 4,
   "id": "d379a031",
   "metadata": {},
   "outputs": [
    {
     "data": {
      "text/plain": [
       "numpy.ndarray"
      ]
     },
     "execution_count": 4,
     "metadata": {},
     "output_type": "execute_result"
    }
   ],
   "source": [
    "type(a1)"
   ]
  },
  {
   "cell_type": "code",
   "execution_count": 5,
   "id": "f968f42d",
   "metadata": {},
   "outputs": [],
   "source": [
    "a2 = np.array([[1,2,3.5], \n",
    "              [4,5,6.5]])"
   ]
  },
  {
   "cell_type": "code",
   "execution_count": 6,
   "id": "dd966eb1",
   "metadata": {},
   "outputs": [
    {
     "name": "stdout",
     "output_type": "stream",
     "text": [
      "[[1.  2.  3.5]\n",
      " [4.  5.  6.5]]\n"
     ]
    }
   ],
   "source": [
    "print(a2)"
   ]
  },
  {
   "cell_type": "code",
   "execution_count": 7,
   "id": "319bc374",
   "metadata": {},
   "outputs": [
    {
     "data": {
      "text/plain": [
       "(2, 3)"
      ]
     },
     "execution_count": 7,
     "metadata": {},
     "output_type": "execute_result"
    }
   ],
   "source": [
    "a2.shape"
   ]
  },
  {
   "cell_type": "code",
   "execution_count": 8,
   "id": "864d1ec2",
   "metadata": {},
   "outputs": [
    {
     "data": {
      "text/plain": [
       "(3,)"
      ]
     },
     "execution_count": 8,
     "metadata": {},
     "output_type": "execute_result"
    }
   ],
   "source": [
    "a1.shape"
   ]
  },
  {
   "cell_type": "code",
   "execution_count": 9,
   "id": "6f312db6",
   "metadata": {},
   "outputs": [
    {
     "data": {
      "text/plain": [
       "(1, 2)"
      ]
     },
     "execution_count": 9,
     "metadata": {},
     "output_type": "execute_result"
    }
   ],
   "source": [
    "a1.ndim, a2.ndim"
   ]
  },
  {
   "cell_type": "code",
   "execution_count": 10,
   "id": "6373eb1c",
   "metadata": {},
   "outputs": [
    {
     "data": {
      "text/plain": [
       "(dtype('int64'), dtype('float64'))"
      ]
     },
     "execution_count": 10,
     "metadata": {},
     "output_type": "execute_result"
    }
   ],
   "source": [
    "a1.dtype, a2.dtype"
   ]
  },
  {
   "cell_type": "code",
   "execution_count": 11,
   "id": "42cd448c",
   "metadata": {},
   "outputs": [
    {
     "data": {
      "text/plain": [
       "(3, 6)"
      ]
     },
     "execution_count": 11,
     "metadata": {},
     "output_type": "execute_result"
    }
   ],
   "source": [
    "a1.size, a2.size"
   ]
  },
  {
   "cell_type": "code",
   "execution_count": 12,
   "id": "2ad29bf9",
   "metadata": {},
   "outputs": [
    {
     "data": {
      "text/plain": [
       "(numpy.ndarray, numpy.ndarray)"
      ]
     },
     "execution_count": 12,
     "metadata": {},
     "output_type": "execute_result"
    }
   ],
   "source": [
    "type(a1), type(a2)"
   ]
  },
  {
   "cell_type": "code",
   "execution_count": 13,
   "id": "ed4409b3",
   "metadata": {},
   "outputs": [
    {
     "data": {
      "text/html": [
       "<div>\n",
       "<style scoped>\n",
       "    .dataframe tbody tr th:only-of-type {\n",
       "        vertical-align: middle;\n",
       "    }\n",
       "\n",
       "    .dataframe tbody tr th {\n",
       "        vertical-align: top;\n",
       "    }\n",
       "\n",
       "    .dataframe thead th {\n",
       "        text-align: right;\n",
       "    }\n",
       "</style>\n",
       "<table border=\"1\" class=\"dataframe\">\n",
       "  <thead>\n",
       "    <tr style=\"text-align: right;\">\n",
       "      <th></th>\n",
       "      <th>0</th>\n",
       "    </tr>\n",
       "  </thead>\n",
       "  <tbody>\n",
       "    <tr>\n",
       "      <th>0</th>\n",
       "      <td>1</td>\n",
       "    </tr>\n",
       "    <tr>\n",
       "      <th>1</th>\n",
       "      <td>2</td>\n",
       "    </tr>\n",
       "    <tr>\n",
       "      <th>2</th>\n",
       "      <td>3</td>\n",
       "    </tr>\n",
       "  </tbody>\n",
       "</table>\n",
       "</div>"
      ],
      "text/plain": [
       "   0\n",
       "0  1\n",
       "1  2\n",
       "2  3"
      ]
     },
     "execution_count": 13,
     "metadata": {},
     "output_type": "execute_result"
    }
   ],
   "source": [
    "#Create a dataframe from a Numpy array \n",
    "import pandas as pd \n",
    "df = pd.DataFrame(a1) \n",
    "df"
   ]
  },
  {
   "cell_type": "code",
   "execution_count": 14,
   "id": "8209d0ae",
   "metadata": {},
   "outputs": [
    {
     "ename": "SyntaxError",
     "evalue": "invalid syntax (2833031934.py, line 1)",
     "output_type": "error",
     "traceback": [
      "\u001b[0;36m  Cell \u001b[0;32mIn[14], line 1\u001b[0;36m\u001b[0m\n\u001b[0;31m    **Creating arrays**\u001b[0m\n\u001b[0m    ^\u001b[0m\n\u001b[0;31mSyntaxError\u001b[0m\u001b[0;31m:\u001b[0m invalid syntax\n"
     ]
    }
   ],
   "source": [
    "**Creating arrays**"
   ]
  },
  {
   "cell_type": "code",
   "execution_count": null,
   "id": "9b9a40a8",
   "metadata": {},
   "outputs": [],
   "source": [
    "<strong>bold text</strong>"
   ]
  },
  {
   "cell_type": "code",
   "execution_count": null,
   "id": "e4ea572d",
   "metadata": {},
   "outputs": [],
   "source": [
    "## **Creating arrays**"
   ]
  },
  {
   "cell_type": "code",
   "execution_count": null,
   "id": "e45f24b3",
   "metadata": {},
   "outputs": [],
   "source": [
    "# **Creating arrays**"
   ]
  },
  {
   "cell_type": "code",
   "execution_count": null,
   "id": "869612bc",
   "metadata": {},
   "outputs": [],
   "source": [
    "<h2><b>Creating arrays</b></h2>\n"
   ]
  },
  {
   "cell_type": "code",
   "execution_count": null,
   "id": "a99acb31",
   "metadata": {},
   "outputs": [],
   "source": [
    "**this is a bold text** "
   ]
  },
  {
   "cell_type": "code",
   "execution_count": null,
   "id": "9862040e",
   "metadata": {},
   "outputs": [],
   "source": [
    "# for titles"
   ]
  },
  {
   "cell_type": "code",
   "execution_count": null,
   "id": "8c103700",
   "metadata": {},
   "outputs": [],
   "source": [
    "## 2. Creating Arrays"
   ]
  },
  {
   "cell_type": "code",
   "execution_count": 15,
   "id": "341876a5",
   "metadata": {},
   "outputs": [],
   "source": [
    "sample_array = np.array([1,2,3])"
   ]
  },
  {
   "cell_type": "code",
   "execution_count": 16,
   "id": "4c9968b8",
   "metadata": {},
   "outputs": [],
   "source": [
    "import numpy as np"
   ]
  },
  {
   "cell_type": "code",
   "execution_count": 17,
   "id": "e2f5a964",
   "metadata": {},
   "outputs": [],
   "source": [
    "sample_array = np.array([1,2,3])"
   ]
  },
  {
   "cell_type": "code",
   "execution_count": 18,
   "id": "76e506d5",
   "metadata": {},
   "outputs": [
    {
     "data": {
      "text/plain": [
       "(3,)"
      ]
     },
     "execution_count": 18,
     "metadata": {},
     "output_type": "execute_result"
    }
   ],
   "source": [
    "sample_array.shape"
   ]
  },
  {
   "cell_type": "code",
   "execution_count": 19,
   "id": "1cbc1b97",
   "metadata": {},
   "outputs": [
    {
     "data": {
      "text/plain": [
       "1"
      ]
     },
     "execution_count": 19,
     "metadata": {},
     "output_type": "execute_result"
    }
   ],
   "source": [
    "sample_array.ndim"
   ]
  },
  {
   "cell_type": "code",
   "execution_count": 20,
   "id": "70158c6c",
   "metadata": {},
   "outputs": [
    {
     "data": {
      "text/plain": [
       "dtype('int64')"
      ]
     },
     "execution_count": 20,
     "metadata": {},
     "output_type": "execute_result"
    }
   ],
   "source": [
    "sample_array.dtype"
   ]
  },
  {
   "cell_type": "code",
   "execution_count": 21,
   "id": "b5e403e8",
   "metadata": {},
   "outputs": [],
   "source": [
    "ones = np.ones((2,3))"
   ]
  },
  {
   "cell_type": "code",
   "execution_count": 22,
   "id": "eb5392ee",
   "metadata": {},
   "outputs": [
    {
     "data": {
      "text/plain": [
       "array([[1., 1., 1.],\n",
       "       [1., 1., 1.]])"
      ]
     },
     "execution_count": 22,
     "metadata": {},
     "output_type": "execute_result"
    }
   ],
   "source": [
    "ones"
   ]
  },
  {
   "cell_type": "code",
   "execution_count": 23,
   "id": "2822e3a8",
   "metadata": {},
   "outputs": [
    {
     "ename": "AttributeError",
     "evalue": "'numpy.ndarray' object has no attribute 'ndarry'",
     "output_type": "error",
     "traceback": [
      "\u001b[0;31m---------------------------------------------------------------------------\u001b[0m",
      "\u001b[0;31mAttributeError\u001b[0m                            Traceback (most recent call last)",
      "Cell \u001b[0;32mIn[23], line 1\u001b[0m\n\u001b[0;32m----> 1\u001b[0m \u001b[38;5;28mtype\u001b[39m(ones\u001b[38;5;241m.\u001b[39mndarry)\n",
      "\u001b[0;31mAttributeError\u001b[0m: 'numpy.ndarray' object has no attribute 'ndarry'"
     ]
    }
   ],
   "source": [
    "type(ones.ndarry)"
   ]
  },
  {
   "cell_type": "code",
   "execution_count": null,
   "id": "7c919b4c",
   "metadata": {},
   "outputs": [],
   "source": [
    "type(ones)"
   ]
  },
  {
   "cell_type": "code",
   "execution_count": 24,
   "id": "ecf3b338",
   "metadata": {},
   "outputs": [
    {
     "ename": "TypeError",
     "evalue": "zeros() missing required argument 'shape' (pos 0)",
     "output_type": "error",
     "traceback": [
      "\u001b[0;31m---------------------------------------------------------------------------\u001b[0m",
      "\u001b[0;31mTypeError\u001b[0m                                 Traceback (most recent call last)",
      "Cell \u001b[0;32mIn[24], line 1\u001b[0m\n\u001b[0;32m----> 1\u001b[0m zeros \u001b[38;5;241m=\u001b[39m np\u001b[38;5;241m.\u001b[39mzeros()\n",
      "\u001b[0;31mTypeError\u001b[0m: zeros() missing required argument 'shape' (pos 0)"
     ]
    }
   ],
   "source": [
    "zeros = np.zeros()"
   ]
  },
  {
   "cell_type": "code",
   "execution_count": 25,
   "id": "7415d56e",
   "metadata": {},
   "outputs": [],
   "source": [
    "zeros = np.zeros(4)"
   ]
  },
  {
   "cell_type": "code",
   "execution_count": 26,
   "id": "4daea599",
   "metadata": {},
   "outputs": [
    {
     "data": {
      "text/plain": [
       "array([0., 0., 0., 0.])"
      ]
     },
     "execution_count": 26,
     "metadata": {},
     "output_type": "execute_result"
    }
   ],
   "source": [
    "zeros"
   ]
  },
  {
   "cell_type": "code",
   "execution_count": 27,
   "id": "d7901abe",
   "metadata": {},
   "outputs": [],
   "source": [
    "zeros = np.zeros((4,5))"
   ]
  },
  {
   "cell_type": "code",
   "execution_count": 28,
   "id": "0e1071a4",
   "metadata": {},
   "outputs": [
    {
     "data": {
      "text/plain": [
       "array([[0., 0., 0., 0., 0.],\n",
       "       [0., 0., 0., 0., 0.],\n",
       "       [0., 0., 0., 0., 0.],\n",
       "       [0., 0., 0., 0., 0.]])"
      ]
     },
     "execution_count": 28,
     "metadata": {},
     "output_type": "execute_result"
    }
   ],
   "source": [
    "zeros"
   ]
  },
  {
   "cell_type": "code",
   "execution_count": 29,
   "id": "3cba0977",
   "metadata": {},
   "outputs": [
    {
     "data": {
      "text/plain": [
       "array([0, 2, 4, 6, 8])"
      ]
     },
     "execution_count": 29,
     "metadata": {},
     "output_type": "execute_result"
    }
   ],
   "source": [
    "range_array = np.arange(0,10,2)\n",
    "range_array"
   ]
  },
  {
   "cell_type": "code",
   "execution_count": 30,
   "id": "c7f6faea",
   "metadata": {},
   "outputs": [],
   "source": [
    "random_array = np.random.randint(0,10, size=(3,5))"
   ]
  },
  {
   "cell_type": "code",
   "execution_count": 31,
   "id": "5c1a1945",
   "metadata": {},
   "outputs": [
    {
     "data": {
      "text/plain": [
       "array([[9, 3, 0, 7, 3],\n",
       "       [4, 1, 0, 3, 8],\n",
       "       [9, 9, 3, 7, 9]])"
      ]
     },
     "execution_count": 31,
     "metadata": {},
     "output_type": "execute_result"
    }
   ],
   "source": [
    "random_array"
   ]
  },
  {
   "cell_type": "code",
   "execution_count": 32,
   "id": "64dfad74",
   "metadata": {},
   "outputs": [],
   "source": [
    "random_array = np.random.randint(0,3000, size = (500,500,500))"
   ]
  },
  {
   "cell_type": "code",
   "execution_count": 33,
   "id": "a5ef210f",
   "metadata": {},
   "outputs": [
    {
     "data": {
      "text/plain": [
       "array([[[ 584,  751, 2979, ...,  768, 2714,  107],\n",
       "        [ 102, 1902, 1138, ..., 1439, 1632, 2888],\n",
       "        [1424, 1423,  223, ..., 1261, 2945,   17],\n",
       "        ...,\n",
       "        [1265,  217,  773, ..., 2284, 2910, 2298],\n",
       "        [ 411, 2465,  665, ..., 1928,  686, 1313],\n",
       "        [2507, 1012, 2017, ..., 2308,  145, 2995]],\n",
       "\n",
       "       [[2412,  181, 2628, ...,  839, 1686, 1461],\n",
       "        [ 139, 1632, 1949, ..., 2291,  715, 2097],\n",
       "        [2443, 1179, 1413, ..., 2704, 2715,    0],\n",
       "        ...,\n",
       "        [1511, 2478, 1619, ..., 2993, 2227,  586],\n",
       "        [2572,  371, 2450, ...,  664, 2569,  143],\n",
       "        [1471, 1455, 1749, ..., 2080, 1226, 2480]],\n",
       "\n",
       "       [[ 771, 2724,  759, ...,  858, 1447, 1805],\n",
       "        [ 763, 1592,  529, ...,  409,   68,   16],\n",
       "        [2806, 2607, 2541, ..., 1749,  421, 2316],\n",
       "        ...,\n",
       "        [1436, 1925, 1997, ..., 2992, 2247,  460],\n",
       "        [1515,  376, 1379, ..., 1054, 1039, 1396],\n",
       "        [2683, 2928, 1365, ...,  634, 2576, 2205]],\n",
       "\n",
       "       ...,\n",
       "\n",
       "       [[2508, 2769, 2399, ..., 2208, 2243, 2904],\n",
       "        [1246,  175, 2712, ...,  260,  984, 2252],\n",
       "        [ 815, 2832, 2118, ..., 1318, 1909, 2279],\n",
       "        ...,\n",
       "        [2644,  642,  895, ..., 1337, 2515, 2178],\n",
       "        [ 154,   78,  934, ...,  497, 2822, 1252],\n",
       "        [ 358, 2848,   35, ..., 2947, 2710,  396]],\n",
       "\n",
       "       [[1235,  244, 1275, ..., 2502, 2090, 2045],\n",
       "        [ 957, 2882, 1925, ..., 2313, 1469, 1251],\n",
       "        [2757,  995, 2630, ..., 2615, 2692, 2115],\n",
       "        ...,\n",
       "        [1814, 2061,  790, ..., 2880,  261,  122],\n",
       "        [2750, 2754, 1308, ...,  485, 2447, 2394],\n",
       "        [1851,  737, 2043, ..., 2234, 2345, 1608]],\n",
       "\n",
       "       [[ 315,  563,  881, ...,  301, 2231, 2031],\n",
       "        [2477,  652, 1119, ...,   47, 2231,  987],\n",
       "        [ 162, 2837,  387, ...,   51, 2007,  275],\n",
       "        ...,\n",
       "        [1372,  559, 1685, ..., 2958, 1705, 2127],\n",
       "        [1436,  964,  910, ..., 1159,  591, 2264],\n",
       "        [ 353,  353,  556, ...,  434, 1029,  229]]])"
      ]
     },
     "execution_count": 33,
     "metadata": {},
     "output_type": "execute_result"
    }
   ],
   "source": [
    "random_array"
   ]
  },
  {
   "cell_type": "code",
   "execution_count": 34,
   "id": "c3c25d89",
   "metadata": {},
   "outputs": [
    {
     "data": {
      "text/plain": [
       "125000000"
      ]
     },
     "execution_count": 34,
     "metadata": {},
     "output_type": "execute_result"
    }
   ],
   "source": [
    "random_array.size"
   ]
  },
  {
   "cell_type": "code",
   "execution_count": 35,
   "id": "2eb2c86c",
   "metadata": {},
   "outputs": [
    {
     "data": {
      "text/plain": [
       "(500, 500, 500)"
      ]
     },
     "execution_count": 35,
     "metadata": {},
     "output_type": "execute_result"
    }
   ],
   "source": [
    "random_array.shape"
   ]
  },
  {
   "cell_type": "code",
   "execution_count": 36,
   "id": "c6837ff4",
   "metadata": {},
   "outputs": [
    {
     "data": {
      "text/plain": [
       "array([[0.91507877, 0.77545074, 0.79568233],\n",
       "       [0.61101815, 0.62391277, 0.6631369 ],\n",
       "       [0.13002695, 0.53640314, 0.72256983],\n",
       "       [0.23333732, 0.9505642 , 0.57206434],\n",
       "       [0.2912477 , 0.36169469, 0.92248222]])"
      ]
     },
     "execution_count": 36,
     "metadata": {},
     "output_type": "execute_result"
    }
   ],
   "source": [
    "np.random.random((5,3))"
   ]
  },
  {
   "cell_type": "code",
   "execution_count": 37,
   "id": "8cc5addd",
   "metadata": {},
   "outputs": [],
   "source": [
    "random_array_2 = np.random.rand(50,30)"
   ]
  },
  {
   "cell_type": "code",
   "execution_count": 38,
   "id": "6befd414",
   "metadata": {},
   "outputs": [
    {
     "data": {
      "text/plain": [
       "array([[0.04062395, 0.52428393, 0.01265448, ..., 0.84740233, 0.06967148,\n",
       "        0.82670302],\n",
       "       [0.37678334, 0.45048061, 0.35046765, ..., 0.61148118, 0.76092973,\n",
       "        0.48089394],\n",
       "       [0.88861223, 0.69713126, 0.00700534, ..., 0.50415311, 0.44225025,\n",
       "        0.50721032],\n",
       "       ...,\n",
       "       [0.12525364, 0.29385722, 0.03770341, ..., 0.2613761 , 0.59235636,\n",
       "        0.46724465],\n",
       "       [0.18716425, 0.30067674, 0.78611444, ..., 0.32862521, 0.5290642 ,\n",
       "        0.77334809],\n",
       "       [0.62658826, 0.16224739, 0.17646633, ..., 0.01353477, 0.2754105 ,\n",
       "        0.3608639 ]])"
      ]
     },
     "execution_count": 38,
     "metadata": {},
     "output_type": "execute_result"
    }
   ],
   "source": [
    "random_array_2"
   ]
  },
  {
   "cell_type": "code",
   "execution_count": 39,
   "id": "107e4524",
   "metadata": {},
   "outputs": [],
   "source": [
    "random_array_3 = np.random.rand(10,20,30)"
   ]
  },
  {
   "cell_type": "code",
   "execution_count": 40,
   "id": "9ad6ba45",
   "metadata": {},
   "outputs": [
    {
     "data": {
      "text/plain": [
       "array([[[0.35331056, 0.37839094, 0.8427823 , ..., 0.25600147,\n",
       "         0.03540586, 0.28787882],\n",
       "        [0.37185887, 0.91637541, 0.0844761 , ..., 0.57764282,\n",
       "         0.82714777, 0.1383003 ],\n",
       "        [0.79091193, 0.13588688, 0.65439918, ..., 0.42550951,\n",
       "         0.65146978, 0.95832132],\n",
       "        ...,\n",
       "        [0.35151235, 0.54135809, 0.92406521, ..., 0.0628391 ,\n",
       "         0.73172091, 0.46475047],\n",
       "        [0.17646984, 0.96863004, 0.00970532, ..., 0.77216551,\n",
       "         0.80300681, 0.85772166],\n",
       "        [0.8399657 , 0.90275158, 0.23745704, ..., 0.36793525,\n",
       "         0.0897505 , 0.66986124]],\n",
       "\n",
       "       [[0.12202817, 0.87031088, 0.95443488, ..., 0.34076705,\n",
       "         0.48722117, 0.82449443],\n",
       "        [0.62790472, 0.16303908, 0.42515684, ..., 0.14401558,\n",
       "         0.35615152, 0.25975676],\n",
       "        [0.45028116, 0.61873795, 0.62465077, ..., 0.46978718,\n",
       "         0.82325492, 0.99959018],\n",
       "        ...,\n",
       "        [0.23818892, 0.15904488, 0.5566372 , ..., 0.68902039,\n",
       "         0.2448    , 0.40002832],\n",
       "        [0.14350182, 0.68946494, 0.83772639, ..., 0.43773405,\n",
       "         0.62996783, 0.11228156],\n",
       "        [0.76442793, 0.32768991, 0.92871056, ..., 0.02953428,\n",
       "         0.09228266, 0.59604201]],\n",
       "\n",
       "       [[0.51363714, 0.28949795, 0.26241781, ..., 0.75547132,\n",
       "         0.69583962, 0.47925234],\n",
       "        [0.28260371, 0.58190643, 0.34917986, ..., 0.64146853,\n",
       "         0.78261233, 0.38515447],\n",
       "        [0.52845039, 0.70169472, 0.35100132, ..., 0.22517646,\n",
       "         0.59447026, 0.07802134],\n",
       "        ...,\n",
       "        [0.03609573, 0.8062184 , 0.00694256, ..., 0.56138108,\n",
       "         0.55683461, 0.67844114],\n",
       "        [0.27217889, 0.55526223, 0.29428116, ..., 0.51622355,\n",
       "         0.17398603, 0.170409  ],\n",
       "        [0.40674475, 0.49775435, 0.5432921 , ..., 0.58909563,\n",
       "         0.96148948, 0.97276908]],\n",
       "\n",
       "       ...,\n",
       "\n",
       "       [[0.2428362 , 0.17979343, 0.37457652, ..., 0.64401114,\n",
       "         0.93925497, 0.70957714],\n",
       "        [0.15651298, 0.84996871, 0.59316727, ..., 0.60632001,\n",
       "         0.31377552, 0.56072355],\n",
       "        [0.04412492, 0.58736702, 0.48464515, ..., 0.21143759,\n",
       "         0.33917892, 0.13983005],\n",
       "        ...,\n",
       "        [0.26521618, 0.88173999, 0.40877508, ..., 0.86988545,\n",
       "         0.95364613, 0.93890785],\n",
       "        [0.02481288, 0.90024494, 0.498523  , ..., 0.82737717,\n",
       "         0.8553194 , 0.60159921],\n",
       "        [0.68876798, 0.69511474, 0.118805  , ..., 0.48522367,\n",
       "         0.82127162, 0.58091301]],\n",
       "\n",
       "       [[0.61550906, 0.94783801, 0.78278842, ..., 0.93465999,\n",
       "         0.19462527, 0.19067283],\n",
       "        [0.48257591, 0.06449614, 0.0019279 , ..., 0.94043012,\n",
       "         0.82417076, 0.36522375],\n",
       "        [0.42633994, 0.51281305, 0.45112292, ..., 0.07880595,\n",
       "         0.30010038, 0.8926995 ],\n",
       "        ...,\n",
       "        [0.03702822, 0.942977  , 0.98379252, ..., 0.44597831,\n",
       "         0.07426852, 0.19446983],\n",
       "        [0.17098631, 0.92844583, 0.91609123, ..., 0.26718012,\n",
       "         0.33235338, 0.654002  ],\n",
       "        [0.82017542, 0.2270818 , 0.51847906, ..., 0.59586262,\n",
       "         0.49042769, 0.07513569]],\n",
       "\n",
       "       [[0.24100874, 0.33122785, 0.94113362, ..., 0.84834679,\n",
       "         0.01256344, 0.7954689 ],\n",
       "        [0.07575339, 0.61150705, 0.49434241, ..., 0.6164346 ,\n",
       "         0.29716809, 0.48468261],\n",
       "        [0.08364151, 0.58981575, 0.31836725, ..., 0.06951077,\n",
       "         0.06299054, 0.09400142],\n",
       "        ...,\n",
       "        [0.44077923, 0.40409159, 0.51974319, ..., 0.68212462,\n",
       "         0.35481243, 0.60193278],\n",
       "        [0.27757052, 0.20689997, 0.45256315, ..., 0.71045961,\n",
       "         0.67643699, 0.53982405],\n",
       "        [0.64523224, 0.49704865, 0.83077316, ..., 0.94357635,\n",
       "         0.89055325, 0.33991584]]])"
      ]
     },
     "execution_count": 40,
     "metadata": {},
     "output_type": "execute_result"
    }
   ],
   "source": [
    "random_array_3"
   ]
  },
  {
   "cell_type": "code",
   "execution_count": 41,
   "id": "78850fe5",
   "metadata": {},
   "outputs": [],
   "source": [
    "# Pseudo-random numbers"
   ]
  },
  {
   "cell_type": "code",
   "execution_count": 42,
   "id": "e80f158e",
   "metadata": {},
   "outputs": [],
   "source": [
    "np.random.seed()"
   ]
  },
  {
   "cell_type": "code",
   "execution_count": 43,
   "id": "c8dc61a7",
   "metadata": {},
   "outputs": [
    {
     "data": {
      "text/plain": [
       "array([[5, 0, 3],\n",
       "       [3, 7, 9],\n",
       "       [3, 5, 2],\n",
       "       [4, 7, 6],\n",
       "       [8, 8, 1]])"
      ]
     },
     "execution_count": 43,
     "metadata": {},
     "output_type": "execute_result"
    }
   ],
   "source": [
    "np.random.seed(seed = 0)   \n",
    "random_array_4 = np.random.randint(10, size=(5,3))     \n",
    "random_array_4"
   ]
  },
  {
   "cell_type": "code",
   "execution_count": 44,
   "id": "e1a5d28d",
   "metadata": {},
   "outputs": [
    {
     "data": {
      "text/plain": [
       "array([[5, 0, 3],\n",
       "       [3, 7, 9],\n",
       "       [3, 5, 2],\n",
       "       [4, 7, 6],\n",
       "       [8, 8, 1]])"
      ]
     },
     "execution_count": 44,
     "metadata": {},
     "output_type": "execute_result"
    }
   ],
   "source": [
    "random_array_4"
   ]
  },
  {
   "cell_type": "code",
   "execution_count": 45,
   "id": "27a5a579",
   "metadata": {},
   "outputs": [
    {
     "data": {
      "text/plain": [
       "array([[5, 0, 3],\n",
       "       [3, 7, 9],\n",
       "       [3, 5, 2],\n",
       "       [4, 7, 6],\n",
       "       [8, 8, 1]])"
      ]
     },
     "execution_count": 45,
     "metadata": {},
     "output_type": "execute_result"
    }
   ],
   "source": [
    "random_array_4"
   ]
  },
  {
   "cell_type": "code",
   "execution_count": 46,
   "id": "1b472220",
   "metadata": {},
   "outputs": [
    {
     "data": {
      "text/plain": [
       "array([[5, 0, 3],\n",
       "       [3, 7, 9],\n",
       "       [3, 5, 2],\n",
       "       [4, 7, 6],\n",
       "       [8, 8, 1]])"
      ]
     },
     "execution_count": 46,
     "metadata": {},
     "output_type": "execute_result"
    }
   ],
   "source": [
    "random_array_4"
   ]
  },
  {
   "cell_type": "code",
   "execution_count": 47,
   "id": "17ceb944",
   "metadata": {},
   "outputs": [
    {
     "data": {
      "text/plain": [
       "(5, 3)"
      ]
     },
     "execution_count": 47,
     "metadata": {},
     "output_type": "execute_result"
    }
   ],
   "source": [
    "random_array_4.shape"
   ]
  },
  {
   "cell_type": "code",
   "execution_count": 48,
   "id": "8969e804",
   "metadata": {},
   "outputs": [],
   "source": [
    "## 3. Viewwing arrays and matrices "
   ]
  },
  {
   "cell_type": "code",
   "execution_count": 49,
   "id": "a8f93a2f",
   "metadata": {},
   "outputs": [
    {
     "data": {
      "text/plain": [
       "array([0, 1, 2, 3, 4, 5, 6, 7, 8, 9])"
      ]
     },
     "execution_count": 49,
     "metadata": {},
     "output_type": "execute_result"
    }
   ],
   "source": [
    "np.unique(random_array_4)"
   ]
  },
  {
   "cell_type": "code",
   "execution_count": 50,
   "id": "64ea4d75",
   "metadata": {},
   "outputs": [
    {
     "data": {
      "text/plain": [
       "array([1, 2, 3])"
      ]
     },
     "execution_count": 50,
     "metadata": {},
     "output_type": "execute_result"
    }
   ],
   "source": [
    "a1"
   ]
  },
  {
   "cell_type": "code",
   "execution_count": 51,
   "id": "6e9609a9",
   "metadata": {},
   "outputs": [
    {
     "data": {
      "text/plain": [
       "array([1, 2, 3])"
      ]
     },
     "execution_count": 51,
     "metadata": {},
     "output_type": "execute_result"
    }
   ],
   "source": [
    "a1"
   ]
  },
  {
   "cell_type": "code",
   "execution_count": 52,
   "id": "3b2f0957",
   "metadata": {},
   "outputs": [
    {
     "data": {
      "text/plain": [
       "array([[1. , 2. , 3.5],\n",
       "       [4. , 5. , 6.5]])"
      ]
     },
     "execution_count": 52,
     "metadata": {},
     "output_type": "execute_result"
    }
   ],
   "source": [
    "a2"
   ]
  },
  {
   "cell_type": "code",
   "execution_count": 53,
   "id": "03715ffc",
   "metadata": {},
   "outputs": [
    {
     "data": {
      "text/plain": [
       "1"
      ]
     },
     "execution_count": 53,
     "metadata": {},
     "output_type": "execute_result"
    }
   ],
   "source": [
    "a1[0]"
   ]
  },
  {
   "cell_type": "code",
   "execution_count": 54,
   "id": "fd09c739",
   "metadata": {},
   "outputs": [
    {
     "data": {
      "text/plain": [
       "array([1. , 2. , 3.5])"
      ]
     },
     "execution_count": 54,
     "metadata": {},
     "output_type": "execute_result"
    }
   ],
   "source": [
    "a2[0]"
   ]
  },
  {
   "cell_type": "code",
   "execution_count": 55,
   "id": "3377663a",
   "metadata": {},
   "outputs": [
    {
     "data": {
      "text/plain": [
       "(2, 3)"
      ]
     },
     "execution_count": 55,
     "metadata": {},
     "output_type": "execute_result"
    }
   ],
   "source": [
    "a2.shape"
   ]
  },
  {
   "cell_type": "code",
   "execution_count": 56,
   "id": "81dd9f58",
   "metadata": {},
   "outputs": [
    {
     "data": {
      "text/plain": [
       "array([4. , 5. , 6.5])"
      ]
     },
     "execution_count": 56,
     "metadata": {},
     "output_type": "execute_result"
    }
   ],
   "source": [
    "a2[1]"
   ]
  },
  {
   "cell_type": "code",
   "execution_count": 57,
   "id": "61a33b25",
   "metadata": {},
   "outputs": [
    {
     "data": {
      "text/plain": [
       "array([[1. , 2. , 3.5],\n",
       "       [4. , 5. , 6.5]])"
      ]
     },
     "execution_count": 57,
     "metadata": {},
     "output_type": "execute_result"
    }
   ],
   "source": [
    "a2 [:]"
   ]
  },
  {
   "cell_type": "code",
   "execution_count": 58,
   "id": "cb7ad44f",
   "metadata": {},
   "outputs": [
    {
     "ename": "IndexError",
     "evalue": "too many indices for array: array is 2-dimensional, but 3 were indexed",
     "output_type": "error",
     "traceback": [
      "\u001b[0;31m---------------------------------------------------------------------------\u001b[0m",
      "\u001b[0;31mIndexError\u001b[0m                                Traceback (most recent call last)",
      "Cell \u001b[0;32mIn[58], line 1\u001b[0m\n\u001b[0;32m----> 1\u001b[0m a2 [:\u001b[38;5;241m2\u001b[39m, :\u001b[38;5;241m2\u001b[39m, :\u001b[38;5;241m2\u001b[39m]\n",
      "\u001b[0;31mIndexError\u001b[0m: too many indices for array: array is 2-dimensional, but 3 were indexed"
     ]
    }
   ],
   "source": [
    "a2 [:2, :2, :2]"
   ]
  },
  {
   "cell_type": "code",
   "execution_count": 59,
   "id": "24e8b5c0",
   "metadata": {},
   "outputs": [
    {
     "data": {
      "text/plain": [
       "array([[1., 2.],\n",
       "       [4., 5.]])"
      ]
     },
     "execution_count": 59,
     "metadata": {},
     "output_type": "execute_result"
    }
   ],
   "source": [
    "a2 [:2, :2]"
   ]
  },
  {
   "cell_type": "code",
   "execution_count": 60,
   "id": "c75698e1",
   "metadata": {},
   "outputs": [],
   "source": [
    "## 4. Manipulating & comparing array"
   ]
  },
  {
   "cell_type": "code",
   "execution_count": 61,
   "id": "5d931c43",
   "metadata": {},
   "outputs": [],
   "source": [
    "### Arithmetic "
   ]
  },
  {
   "cell_type": "code",
   "execution_count": 62,
   "id": "be5916b3",
   "metadata": {},
   "outputs": [],
   "source": [
    "ones = np.ones(3)"
   ]
  },
  {
   "cell_type": "code",
   "execution_count": 63,
   "id": "305cafa8",
   "metadata": {},
   "outputs": [
    {
     "data": {
      "text/plain": [
       "array([1., 1., 1.])"
      ]
     },
     "execution_count": 63,
     "metadata": {},
     "output_type": "execute_result"
    }
   ],
   "source": [
    "ones"
   ]
  },
  {
   "cell_type": "code",
   "execution_count": 64,
   "id": "42fd90cf",
   "metadata": {},
   "outputs": [
    {
     "data": {
      "text/plain": [
       "array([2., 3., 4.])"
      ]
     },
     "execution_count": 64,
     "metadata": {},
     "output_type": "execute_result"
    }
   ],
   "source": [
    "a1 + ones"
   ]
  },
  {
   "cell_type": "code",
   "execution_count": 65,
   "id": "505ffbae",
   "metadata": {},
   "outputs": [
    {
     "data": {
      "text/plain": [
       "array([0., 1., 2.])"
      ]
     },
     "execution_count": 65,
     "metadata": {},
     "output_type": "execute_result"
    }
   ],
   "source": [
    "a1 - ones"
   ]
  },
  {
   "cell_type": "code",
   "execution_count": 66,
   "id": "8ebd1c38",
   "metadata": {},
   "outputs": [
    {
     "data": {
      "text/plain": [
       "array([1., 2., 3.])"
      ]
     },
     "execution_count": 66,
     "metadata": {},
     "output_type": "execute_result"
    }
   ],
   "source": [
    "a1 * ones"
   ]
  },
  {
   "cell_type": "code",
   "execution_count": 67,
   "id": "9aa24edd",
   "metadata": {},
   "outputs": [
    {
     "data": {
      "text/plain": [
       "array([[ 1. ,  4. , 10.5],\n",
       "       [ 4. , 10. , 19.5]])"
      ]
     },
     "execution_count": 67,
     "metadata": {},
     "output_type": "execute_result"
    }
   ],
   "source": [
    "a1 * a2"
   ]
  },
  {
   "cell_type": "code",
   "execution_count": 68,
   "id": "2392ceeb",
   "metadata": {},
   "outputs": [
    {
     "data": {
      "text/plain": [
       "array([1., 2., 3.])"
      ]
     },
     "execution_count": 68,
     "metadata": {},
     "output_type": "execute_result"
    }
   ],
   "source": [
    "a1 / ones"
   ]
  },
  {
   "cell_type": "code",
   "execution_count": 69,
   "id": "97b9705d",
   "metadata": {},
   "outputs": [
    {
     "data": {
      "text/plain": [
       "array([[1., 1., 0.],\n",
       "       [0., 0., 0.]])"
      ]
     },
     "execution_count": 69,
     "metadata": {},
     "output_type": "execute_result"
    }
   ],
   "source": [
    "a1 // a2"
   ]
  },
  {
   "cell_type": "code",
   "execution_count": 70,
   "id": "9396e27e",
   "metadata": {},
   "outputs": [
    {
     "data": {
      "text/plain": [
       "array([[  1.   ,   4.   ,  42.875],\n",
       "       [  4.   ,  25.   , 274.625]])"
      ]
     },
     "execution_count": 70,
     "metadata": {},
     "output_type": "execute_result"
    }
   ],
   "source": [
    "a2 ** a1"
   ]
  },
  {
   "cell_type": "code",
   "execution_count": 71,
   "id": "6e58e23d",
   "metadata": {},
   "outputs": [
    {
     "data": {
      "text/plain": [
       "array([[ 1.  ,  4.  , 12.25],\n",
       "       [16.  , 25.  , 42.25]])"
      ]
     },
     "execution_count": 71,
     "metadata": {},
     "output_type": "execute_result"
    }
   ],
   "source": [
    "a2 ** 2\n"
   ]
  },
  {
   "cell_type": "code",
   "execution_count": 72,
   "id": "49b0996b",
   "metadata": {},
   "outputs": [
    {
     "data": {
      "text/plain": [
       "array([[1. , 2. , 3.5],\n",
       "       [4. , 5. , 6.5]])"
      ]
     },
     "execution_count": 72,
     "metadata": {},
     "output_type": "execute_result"
    }
   ],
   "source": [
    "a2"
   ]
  },
  {
   "cell_type": "code",
   "execution_count": 73,
   "id": "fa78df3a",
   "metadata": {},
   "outputs": [
    {
     "data": {
      "text/plain": [
       "array([[ 1.  ,  4.  , 12.25],\n",
       "       [16.  , 25.  , 42.25]])"
      ]
     },
     "execution_count": 73,
     "metadata": {},
     "output_type": "execute_result"
    }
   ],
   "source": [
    "np.square(a2)"
   ]
  },
  {
   "cell_type": "code",
   "execution_count": 74,
   "id": "18fcd9bb",
   "metadata": {},
   "outputs": [
    {
     "data": {
      "text/plain": [
       "array([2., 3., 4.])"
      ]
     },
     "execution_count": 74,
     "metadata": {},
     "output_type": "execute_result"
    }
   ],
   "source": [
    "np.add(a1, ones)"
   ]
  },
  {
   "cell_type": "code",
   "execution_count": 75,
   "id": "16bebdc2",
   "metadata": {},
   "outputs": [
    {
     "data": {
      "text/plain": [
       "array([1, 0, 1])"
      ]
     },
     "execution_count": 75,
     "metadata": {},
     "output_type": "execute_result"
    }
   ],
   "source": [
    "a1 % 2"
   ]
  },
  {
   "cell_type": "code",
   "execution_count": 76,
   "id": "e387aba6",
   "metadata": {},
   "outputs": [
    {
     "data": {
      "text/plain": [
       "array([[0., 0., 3.],\n",
       "       [1., 2., 3.]])"
      ]
     },
     "execution_count": 76,
     "metadata": {},
     "output_type": "execute_result"
    }
   ],
   "source": [
    "np.mod(a1, a2)"
   ]
  },
  {
   "cell_type": "code",
   "execution_count": 77,
   "id": "da9a15d4",
   "metadata": {},
   "outputs": [
    {
     "data": {
      "text/plain": [
       "array([ 2.71828183,  7.3890561 , 20.08553692])"
      ]
     },
     "execution_count": 77,
     "metadata": {},
     "output_type": "execute_result"
    }
   ],
   "source": [
    "np.exp(a1)"
   ]
  },
  {
   "cell_type": "code",
   "execution_count": 78,
   "id": "5c926fc7",
   "metadata": {},
   "outputs": [
    {
     "data": {
      "text/plain": [
       "array([0.        , 0.69314718, 1.09861229])"
      ]
     },
     "execution_count": 78,
     "metadata": {},
     "output_type": "execute_result"
    }
   ],
   "source": [
    "np.log(a1)"
   ]
  },
  {
   "cell_type": "code",
   "execution_count": 79,
   "id": "88145af4",
   "metadata": {},
   "outputs": [],
   "source": [
    "## Aggregation"
   ]
  },
  {
   "cell_type": "code",
   "execution_count": 80,
   "id": "4a31caaf",
   "metadata": {},
   "outputs": [],
   "source": [
    "listy_list = [1,2,3]"
   ]
  },
  {
   "cell_type": "code",
   "execution_count": 81,
   "id": "cf55e606",
   "metadata": {},
   "outputs": [
    {
     "data": {
      "text/plain": [
       "list"
      ]
     },
     "execution_count": 81,
     "metadata": {},
     "output_type": "execute_result"
    }
   ],
   "source": [
    "type(listy_list)"
   ]
  },
  {
   "cell_type": "code",
   "execution_count": 82,
   "id": "fc1919bd",
   "metadata": {},
   "outputs": [
    {
     "data": {
      "text/plain": [
       "6"
      ]
     },
     "execution_count": 82,
     "metadata": {},
     "output_type": "execute_result"
    }
   ],
   "source": [
    "sum(listy_list)"
   ]
  },
  {
   "cell_type": "code",
   "execution_count": 83,
   "id": "c7977b15",
   "metadata": {},
   "outputs": [
    {
     "data": {
      "text/plain": [
       "array([1, 2, 3])"
      ]
     },
     "execution_count": 83,
     "metadata": {},
     "output_type": "execute_result"
    }
   ],
   "source": [
    "a1"
   ]
  },
  {
   "cell_type": "code",
   "execution_count": 84,
   "id": "3769bcb8",
   "metadata": {},
   "outputs": [
    {
     "data": {
      "text/plain": [
       "6"
      ]
     },
     "execution_count": 84,
     "metadata": {},
     "output_type": "execute_result"
    }
   ],
   "source": [
    "sum(a1)"
   ]
  },
  {
   "cell_type": "code",
   "execution_count": 85,
   "id": "14e4f03d",
   "metadata": {},
   "outputs": [
    {
     "data": {
      "text/plain": [
       "6"
      ]
     },
     "execution_count": 85,
     "metadata": {},
     "output_type": "execute_result"
    }
   ],
   "source": [
    "np.sum(a1)"
   ]
  },
  {
   "cell_type": "code",
   "execution_count": 86,
   "id": "591d090d",
   "metadata": {},
   "outputs": [],
   "source": [
    "massive_array = np.random.random(1000000000)"
   ]
  },
  {
   "cell_type": "code",
   "execution_count": 87,
   "id": "a8b18c08",
   "metadata": {},
   "outputs": [
    {
     "data": {
      "text/plain": [
       "array([0.79172504, 0.52889492, 0.56804456, ..., 0.87586069, 0.07715493,\n",
       "       0.13286603])"
      ]
     },
     "execution_count": 87,
     "metadata": {},
     "output_type": "execute_result"
    }
   ],
   "source": [
    "massive_array"
   ]
  },
  {
   "cell_type": "code",
   "execution_count": 88,
   "id": "b8aa76f8",
   "metadata": {},
   "outputs": [
    {
     "data": {
      "text/plain": [
       "array([0.79172504, 0.52889492, 0.56804456, 0.92559664, 0.07103606,\n",
       "       0.0871293 , 0.0202184 , 0.83261985, 0.77815675, 0.87001215,\n",
       "       0.97861834, 0.79915856, 0.46147936, 0.78052918, 0.11827443,\n",
       "       0.63992102, 0.14335329, 0.94466892, 0.52184832, 0.41466194,\n",
       "       0.26455561, 0.77423369, 0.45615033, 0.56843395, 0.0187898 ,\n",
       "       0.6176355 , 0.61209572, 0.616934  , 0.94374808, 0.6818203 ,\n",
       "       0.3595079 , 0.43703195, 0.6976312 , 0.06022547, 0.66676672,\n",
       "       0.67063787, 0.21038256, 0.1289263 , 0.31542835, 0.36371077,\n",
       "       0.57019677, 0.43860151, 0.98837384, 0.10204481, 0.20887676,\n",
       "       0.16130952, 0.65310833, 0.2532916 , 0.46631077, 0.24442559,\n",
       "       0.15896958, 0.11037514, 0.65632959, 0.13818295, 0.19658236,\n",
       "       0.36872517, 0.82099323, 0.09710128, 0.83794491, 0.09609841,\n",
       "       0.97645947, 0.4686512 , 0.97676109, 0.60484552, 0.73926358,\n",
       "       0.03918779, 0.28280696, 0.12019656, 0.2961402 , 0.11872772,\n",
       "       0.31798318, 0.41426299, 0.0641475 , 0.69247212, 0.56660145,\n",
       "       0.26538949, 0.52324805, 0.09394051, 0.5759465 , 0.9292962 ,\n",
       "       0.31856895, 0.66741038, 0.13179786, 0.7163272 , 0.28940609,\n",
       "       0.18319136, 0.58651293, 0.02010755, 0.82894003, 0.00469548,\n",
       "       0.67781654, 0.27000797, 0.73519402, 0.96218855, 0.24875314,\n",
       "       0.57615733, 0.59204193, 0.57225191, 0.22308163, 0.95274901])"
      ]
     },
     "execution_count": 88,
     "metadata": {},
     "output_type": "execute_result"
    }
   ],
   "source": [
    "massive_array[:100]"
   ]
  },
  {
   "cell_type": "code",
   "execution_count": null,
   "id": "5445f62a",
   "metadata": {},
   "outputs": [],
   "source": [
    "%timeit sum(massive_array)"
   ]
  },
  {
   "cell_type": "code",
   "execution_count": null,
   "id": "6b48c9cf",
   "metadata": {},
   "outputs": [],
   "source": [
    "%timeit np.sum(massive_array)"
   ]
  },
  {
   "cell_type": "code",
   "execution_count": null,
   "id": "571a7ed0",
   "metadata": {},
   "outputs": [],
   "source": [
    "%timeit np.sum(massive_array)"
   ]
  },
  {
   "cell_type": "code",
   "execution_count": null,
   "id": "01107550",
   "metadata": {},
   "outputs": [],
   "source": [
    "%timeit sum(massive_array) \n",
    "%timeit np.sum(massive_array)"
   ]
  },
  {
   "cell_type": "code",
   "execution_count": null,
   "id": "25fb7eb8",
   "metadata": {},
   "outputs": [],
   "source": [
    "%timeit np.sum(massive_array)"
   ]
  },
  {
   "cell_type": "code",
   "execution_count": null,
   "id": "fea41aa6",
   "metadata": {},
   "outputs": [],
   "source": [
    "np.mean(a2)"
   ]
  },
  {
   "cell_type": "code",
   "execution_count": null,
   "id": "63bed9a7",
   "metadata": {},
   "outputs": [],
   "source": [
    "np.std(a2)"
   ]
  },
  {
   "cell_type": "code",
   "execution_count": null,
   "id": "3e4ee6ec",
   "metadata": {},
   "outputs": [],
   "source": []
  }
 ],
 "metadata": {
  "kernelspec": {
   "display_name": "Python 3 (ipykernel)",
   "language": "python",
   "name": "python3"
  },
  "language_info": {
   "codemirror_mode": {
    "name": "ipython",
    "version": 3
   },
   "file_extension": ".py",
   "mimetype": "text/x-python",
   "name": "python",
   "nbconvert_exporter": "python",
   "pygments_lexer": "ipython3",
   "version": "3.11.2"
  }
 },
 "nbformat": 4,
 "nbformat_minor": 5
}
